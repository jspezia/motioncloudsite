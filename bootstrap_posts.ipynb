{
 "metadata": {
  "name": "",
  "signature": "sha256:48f1438ff5a58f7493ddc2600a709e5bbf656fad7a1e0d65d39cbb79a8b5be4b"
 },
 "nbformat": 3,
 "nbformat_minor": 0,
 "worksheets": [
  {
   "cells": [
    {
     "cell_type": "heading",
     "level": 1,
     "metadata": {},
     "source": [
      "Adding a new post"
     ]
    },
    {
     "cell_type": "code",
     "collapsed": false,
     "input": [
      "!date\n",
      "import datetime\n",
      "print datetime.datetime.now()"
     ],
     "language": "python",
     "metadata": {},
     "outputs": [
      {
       "output_type": "stream",
       "stream": "stdout",
       "text": [
        "Tue Oct 28 15:24:20 CET 2014\r\n"
       ]
      },
      {
       "output_type": "stream",
       "stream": "stdout",
       "text": [
        "2014-10-28 15:24:20.495737\n"
       ]
      }
     ],
     "prompt_number": 1
    },
    {
     "cell_type": "code",
     "collapsed": false,
     "input": [
      "now = datetime.datetime.now().date()\n",
      "date = now.isoformat()[2:]\n",
      "print date"
     ],
     "language": "python",
     "metadata": {},
     "outputs": [
      {
       "output_type": "stream",
       "stream": "stdout",
       "text": [
        "14-10-28\n"
       ]
      }
     ],
     "prompt_number": 2
    },
    {
     "cell_type": "code",
     "collapsed": false,
     "input": [
      "from nikola import utils\n",
      "tags_list = ['motion-detection', 'motionclouds']\n"
     ],
     "language": "python",
     "metadata": {},
     "outputs": [],
     "prompt_number": 3
    },
    {
     "cell_type": "code",
     "collapsed": false,
     "input": [
      "tags = ', '.join(tags_list)\n",
      "title = date + ' ' + 'Motion Clouds, reverse-phi and asymmetry of ON and OFF responses'\n",
      "!nikola new_post -f ipynb -t \"{title}\" --tags=\"{tags}\""
     ],
     "language": "python",
     "metadata": {},
     "outputs": [
      {
       "output_type": "stream",
       "stream": "stdout",
       "text": [
        "Creating New Post\r\n",
        "-----------------\r\n",
        "\r\n",
        "Title: 14-10-27 Motion Clouds, reverse-phi and asymmetry of ON and OFF responses\r\n",
        "Scanning posts."
       ]
      },
      {
       "output_type": "stream",
       "stream": "stdout",
       "text": [
        ".......done!\r\n",
        "\u001b[33;01m[2014-10-27T11:10:21Z] WARNING: new_post: This compiler does not support one-file posts.\r\n",
        "\u001b[39;49;00m\u001b[37m[2014-10-27T11:10:21Z] INFO: new_post: Your post's metadata is at: posts/14-10-27-motion-clouds-reverse-phi-and-asymmetry-of-on-and-off-responses.meta\r\n",
        "\u001b[39;49;00m\u001b[37m[2014-10-27T11:10:21Z] INFO: new_post: Your post's text is at: posts/14-10-27-motion-clouds-reverse-phi-and-asymmetry-of-on-and-off-responses.ipynb\r\n",
        "\u001b[39;49;00m"
       ]
      }
     ],
     "prompt_number": 4
    },
    {
     "cell_type": "code",
     "collapsed": false,
     "input": [
      "!nikola help new_post "
     ],
     "language": "python",
     "metadata": {},
     "outputs": [
      {
       "output_type": "stream",
       "stream": "stdout",
       "text": [
        "Purpose: create a new blog post or site page\r\n",
        "Usage:   nikola new_post [options] [path]\r\n",
        "\r\n",
        "Options:\r\n",
        "  -p, --page                Create a page instead of a blog post. (see also: `nikola new_page`)\r\n",
        "  -t ARG, --title=ARG       Title for the post.\r\n",
        "  --tags=ARG                Comma-separated tags for the post.\r\n",
        "  -1                        Create the post with embedded metadata (single file format)\r\n",
        "  -2                        Create the post with separate metadata (two file format)\r\n",
        "  -e                        Open the post (and meta file, if any) in $EDITOR after creation.\r\n",
        "  -f ARG, --format=ARG      Markup format for the post, one of rest, markdown, wiki, bbcode, html, textile, txt2tags\r\n",
        "  -s                        Schedule the post based on recurrence rule\r\n"
       ]
      }
     ],
     "prompt_number": 58
    },
    {
     "cell_type": "heading",
     "level": 2,
     "metadata": {},
     "source": [
      "serve"
     ]
    },
    {
     "cell_type": "code",
     "collapsed": false,
     "input": [
      "base_url = \"http://127.0.0.1:\"\n",
      "port = 8889\n",
      "\n",
      "from nikola import utils\n",
      "notebook = \"/notebooks/posts/\" + utils.slugify(unicode(title)) + \".ipynb\"  \n",
      "\n",
      "url = base_url + str(port) + notebook\n",
      "print url"
     ],
     "language": "python",
     "metadata": {},
     "outputs": [
      {
       "output_type": "stream",
       "stream": "stdout",
       "text": [
        "http://127.0.0.1:8888/notebooks/posts/zen-themes-updated.ipynb\n"
       ]
      }
     ],
     "prompt_number": 14
    },
    {
     "cell_type": "heading",
     "level": 1,
     "metadata": {},
     "source": [
      "deploying changes\n"
     ]
    },
    {
     "cell_type": "code",
     "collapsed": false,
     "input": [
      "!git status"
     ],
     "language": "python",
     "metadata": {},
     "outputs": [
      {
       "output_type": "stream",
       "stream": "stdout",
       "text": [
        "On branch master\r\n",
        "Your branch is up-to-date with 'origin/master'.\r\n",
        "Changes not staged for commit:\r\n",
        "  (use \"git add <file>...\" to update what will be committed)\r\n",
        "  (use \"git checkout -- <file>...\" to discard changes in working directory)\r\n",
        "\r\n",
        "\t\u001b[32mmodified:   .gitignore\u001b[m\r\n",
        "\r\n",
        "Untracked files:\r\n",
        "  (use \"git add <file>...\" to include in what will be committed)\r\n",
        "\r\n",
        "\t\u001b[36mbootstrap_posts.ipynb\u001b[m\r\n",
        "\t\u001b[36mposts/14-10-27-motion-clouds-reverse-phi-and-asymmetry-of-on-and-off-responses.ipynb\u001b[m\r\n",
        "\t\u001b[36mposts/14-10-27-motion-clouds-reverse-phi-and-asymmetry-of-on-and-off-responses.meta\u001b[m\r\n",
        "\r\n",
        "no changes added to commit (use \"git add\" and/or \"git commit -a\")\r\n"
       ]
      }
     ],
     "prompt_number": 9
    },
    {
     "cell_type": "code",
     "collapsed": false,
     "input": [
      "!nikola build"
     ],
     "language": "python",
     "metadata": {},
     "outputs": [
      {
       "output_type": "stream",
       "stream": "stdout",
       "text": [
        "Scanning posts."
       ]
      },
      {
       "output_type": "stream",
       "stream": "stdout",
       "text": [
        ".......done!\r\n"
       ]
      },
      {
       "output_type": "stream",
       "stream": "stdout",
       "text": [
        ".  render_posts:cache/posts/14-10-27-motion-clouds-reverse-phi-and-asymmetry-of-on-and-off-responses.html\r\n"
       ]
      },
      {
       "output_type": "stream",
       "stream": "stdout",
       "text": [
        ".  render_sources:output/posts/14-10-27-motion-clouds-reverse-phi-and-asymmetry-of-on-and-off-responses.ipynb\r\n"
       ]
      },
      {
       "output_type": "stream",
       "stream": "stdout",
       "text": [
        ".  render_tags:output/categories/motionclouds.html\r\n"
       ]
      },
      {
       "output_type": "stream",
       "stream": "stdout",
       "text": [
        ".  render_tags:output/categories/python.html\r\n"
       ]
      },
      {
       "output_type": "stream",
       "stream": "stdout",
       "text": [
        ".  render_tags:output/categories/motion-detection.html\r\n",
        ".  render_tags:output/categories/psychopy.html\r\n"
       ]
      },
      {
       "output_type": "stream",
       "stream": "stdout",
       "text": [
        ".  render_indexes:output/blog/index.html\r\n"
       ]
      },
      {
       "output_type": "stream",
       "stream": "stdout",
       "text": [
        ".  render_indexes:output/blog/index-1.html\r\n"
       ]
      },
      {
       "output_type": "stream",
       "stream": "stdout",
       "text": [
        ".  render_pages:output/posts/14-10-27-motion-clouds-reverse-phi-and-asymmetry-of-on-and-off-responses.html\r\n"
       ]
      }
     ],
     "prompt_number": 10
    },
    {
     "cell_type": "code",
     "collapsed": false,
     "input": [
      "!nikola deploy"
     ],
     "language": "python",
     "metadata": {},
     "outputs": [
      {
       "output_type": "stream",
       "stream": "stdout",
       "text": [
        "Scanning posts."
       ]
      },
      {
       "output_type": "stream",
       "stream": "stdout",
       "text": [
        ".......done!\r\n",
        "\u001b[37m[2014-10-27T16:07:51Z] INFO: deploy: ==> ./deploy.sh\r\n",
        "\u001b[39;49;00m/bin/sh: ./deploy.sh: No such file or directory\r\n",
        "\u001b[31;01m[2014-10-27T16:07:51Z] ERROR: deploy: Failed deployment \u2014 command ./deploy.sh returned 127\r\n",
        "\u001b[39;49;00m"
       ]
      }
     ],
     "prompt_number": 11
    },
    {
     "cell_type": "code",
     "collapsed": false,
     "input": [
      "!git status"
     ],
     "language": "python",
     "metadata": {},
     "outputs": [
      {
       "output_type": "stream",
       "stream": "stdout",
       "text": [
        "On branch master\r\n",
        "Your branch is up-to-date with 'origin/master'.\r\n",
        "Changes not staged for commit:\r\n",
        "  (use \"git add <file>...\" to update what will be committed)\r\n",
        "  (use \"git checkout -- <file>...\" to discard changes in working directory)\r\n",
        "\r\n",
        "\t\u001b[32mmodified:   bootstrapPost.ipynb\u001b[m\r\n",
        "\r\n",
        "no changes added to commit (use \"git add\" and/or \"git commit -a\")\r\n"
       ]
      }
     ],
     "prompt_number": 17
    },
    {
     "cell_type": "heading",
     "level": 2,
     "metadata": {},
     "source": [
      "installation / upgrade"
     ]
    },
    {
     "cell_type": "code",
     "collapsed": false,
     "input": [
      "!pip install -U nikola"
     ],
     "language": "python",
     "metadata": {},
     "outputs": []
    }
   ],
   "metadata": {}
  }
 ]
}