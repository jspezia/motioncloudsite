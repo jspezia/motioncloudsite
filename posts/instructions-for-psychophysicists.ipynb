{
 "metadata": {
  "name": "",
  "signature": "sha256:85e4794d03c4a77f04bc5ef6f009daa9fc7d7d73a8d17ddbeaf66989d10f53c0"
 },
 "nbformat": 3,
 "nbformat_minor": 0,
 "worksheets": [
  {
   "cells": [
    {
     "cell_type": "markdown",
     "metadata": {},
     "source": [
      "# making psychophysics experiments using psychopy + motionclouds\n",
      "\n",
      "## installation (preparation 3min, cooking / downloading 10 min)\n",
      "\n",
      "* it is easy to create a simple psychophysical experiment using a combination of PsychoPy and MotionClouds. Simply download the standalone psychopy binary for your computer and try to load the example script psychopy_competing.py.\n",
      "* for this, you may:\n",
      " 1. clone / download the [MC repository](https://github.com/NeuralEnsemble/MotionClouds) on github.\n",
      " 1. download [PsychoPy](http://www.psychopy.org/installation.html)\n",
      "* then, open the psychopy_competing.py file in the editor (the so-called \"PsychoPy Coder\")\n",
      "\n",
      "<img src=\"http://motionclouds.invibe.net/psy1.png\">\n",
      "\n",
      "## running\n",
      "\n",
      "* Hit the run button (the green round button with a runner on it), it will then:\n",
      "* tell you about some configuration parameters (be sure to enter the correct size of your screen)\n",
      "* pre-generate data\n",
      "* run the experiment, that is present a sequence of trials consisting of :\n",
      " 1. a movie presentation,\n",
      " 1. a blank screen where the program waits for a key press: UP arrow if you saw the movie going up, DOWN if down or Q / Esc to exit\n",
      " \n",
      "## results\n",
      "\n",
      "* the results are displayed at the end showing that :\n",
      "* the movies consisted of 2 MotionClouds in opposite directions (UP and DOWN) but added with different contrasts,\n",
      "* the percept was going up or down (on the y-axis) as a function of this contrast (x-axis)\n",
      "* it seems I have a slight bias for UP movements as the contrast of equal probability seems inferior to 1/2 (a proper analysis would necessitate a fit).\n",
      "\n",
      "<img src=\"http://motionclouds.invibe.net/psy2.png\">"
     ]
    }
   ],
   "metadata": {}
  }
 ]
}