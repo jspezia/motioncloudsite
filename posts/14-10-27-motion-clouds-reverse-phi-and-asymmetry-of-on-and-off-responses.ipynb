{
 "metadata": {
  "name": "",
  "signature": "sha256:95c1407095746940de03f532edddbf4e6c210a1de2762eb01db8dae2a8212196"
 },
 "nbformat": 3,
 "nbformat_minor": 0,
 "worksheets": [
  {
   "cells": [
    {
     "cell_type": "code",
     "collapsed": false,
     "input": [
      "import os\n",
      "import numpy as np\n",
      "import MotionClouds as mc\n",
      "\n",
      "fx, fy, ft = mc.get_grids(mc.N_X, mc.N_Y, mc.N_frame)\n",
      "name = 'default_'\n",
      "env = mc.envelope_gabor(fx, fy, ft)\n",
      "mc.figures(env, name, seed=12234565)\n",
      "mc.in_show_video(name)"
     ],
     "language": "python",
     "metadata": {},
     "outputs": [
      {
       "output_type": "stream",
       "stream": "stderr",
       "text": [
        "/usr/local/lib/python2.7/site-packages/traits/has_traits.py:1541: FutureWarning: comparison to `None` will result in an elementwise object comparison in the future.\n",
        "  setattr( self, name, value )\n",
        "\r",
        "[  0 %]"
       ]
      },
      {
       "output_type": "stream",
       "stream": "stderr",
       "text": [
        " elapsed[sec]: 0.000"
       ]
      },
      {
       "output_type": "stream",
       "stream": "stderr",
       "text": [
        "\r",
        "[  0 %] elapsed[sec]: 0.001"
       ]
      },
      {
       "output_type": "stream",
       "stream": "stderr",
       "text": [
        "\r",
        "[  1 %] elapsed[sec]: 0.003 | ETA[sec]: 0.210 "
       ]
      },
      {
       "output_type": "stream",
       "stream": "stderr",
       "text": [
        "\r",
        "[  2 %] elapsed[sec]: 0.006 | ETA[sec]: 0.244 "
       ]
      },
      {
       "output_type": "stream",
       "stream": "stderr",
       "text": [
        "\r",
        "[  3 %] elapsed[sec]: 0.008 | ETA[sec]: 0.257 "
       ]
      },
      {
       "output_type": "stream",
       "stream": "stderr",
       "text": [
        "\r",
        "[  3 %] elapsed[sec]: 0.011 | ETA[sec]: 0.259 "
       ]
      },
      {
       "output_type": "stream",
       "stream": "stderr",
       "text": [
        "\r",
        "[  4 %] elapsed[sec]: 0.013 | ETA[sec]: 0.264 "
       ]
      },
      {
       "output_type": "stream",
       "stream": "stderr",
       "text": [
        "\r",
        "[  5 %] elapsed[sec]: 0.015 | ETA[sec]: 0.265 "
       ]
      },
      {
       "output_type": "stream",
       "stream": "stderr",
       "text": [
        "\r",
        "[  6 %] elapsed[sec]: 0.018 | ETA[sec]: 0.265 "
       ]
      },
      {
       "output_type": "stream",
       "stream": "stderr",
       "text": [
        "\r",
        "[  7 %] elapsed[sec]: 0.020 | ETA[sec]: 0.264 "
       ]
      },
      {
       "output_type": "stream",
       "stream": "stderr",
       "text": [
        "\r",
        "[  7 %] elapsed[sec]: 0.022 | ETA[sec]: 0.264 "
       ]
      },
      {
       "output_type": "stream",
       "stream": "stderr",
       "text": [
        "\r",
        "[  8 %] elapsed[sec]: 0.025 | ETA[sec]: 0.268 "
       ]
      },
      {
       "output_type": "stream",
       "stream": "stderr",
       "text": [
        "\r",
        "[  9 %] elapsed[sec]: 0.028 | ETA[sec]: 0.267 "
       ]
      },
      {
       "output_type": "stream",
       "stream": "stderr",
       "text": [
        "\r",
        "[ 10 %] elapsed[sec]: 0.030 | ETA[sec]: 0.265 "
       ]
      },
      {
       "output_type": "stream",
       "stream": "stderr",
       "text": [
        "\r",
        "[ 10 %] elapsed[sec]: 0.032 | ETA[sec]: 0.262 "
       ]
      },
      {
       "output_type": "stream",
       "stream": "stderr",
       "text": [
        "\r",
        "[ 11 %] elapsed[sec]: 0.034 | ETA[sec]: 0.259 "
       ]
      },
      {
       "output_type": "stream",
       "stream": "stderr",
       "text": [
        "\r",
        "[ 12 %] elapsed[sec]: 0.037 | ETA[sec]: 0.258 "
       ]
      },
      {
       "output_type": "stream",
       "stream": "stderr",
       "text": [
        "\r",
        "[ 13 %] elapsed[sec]: 0.039 | ETA[sec]: 0.257 "
       ]
      },
      {
       "output_type": "stream",
       "stream": "stderr",
       "text": [
        "\r",
        "[ 14 %] elapsed[sec]: 0.042 | ETA[sec]: 0.255 "
       ]
      },
      {
       "output_type": "stream",
       "stream": "stderr",
       "text": [
        "\r",
        "[ 14 %] elapsed[sec]: 0.044 | ETA[sec]: 0.254 "
       ]
      },
      {
       "output_type": "stream",
       "stream": "stderr",
       "text": [
        "\r",
        "[ 15 %] elapsed[sec]: 0.047 | ETA[sec]: 0.253 "
       ]
      },
      {
       "output_type": "stream",
       "stream": "stderr",
       "text": [
        "\r",
        "[ 16 %] elapsed[sec]: 0.050 | ETA[sec]: 0.255 "
       ]
      },
      {
       "output_type": "stream",
       "stream": "stderr",
       "text": [
        "\r",
        "[ 17 %] elapsed[sec]: 0.053 | ETA[sec]: 0.258 "
       ]
      },
      {
       "output_type": "stream",
       "stream": "stderr",
       "text": [
        "\r",
        "[ 17 %] elapsed[sec]: 0.056 | ETA[sec]: 0.257 "
       ]
      },
      {
       "output_type": "stream",
       "stream": "stderr",
       "text": [
        "\r",
        "[ 18 %] elapsed[sec]: 0.059 | ETA[sec]: 0.255 "
       ]
      },
      {
       "output_type": "stream",
       "stream": "stderr",
       "text": [
        "\r",
        "[ 19 %] elapsed[sec]: 0.062 | ETA[sec]: 0.257 "
       ]
      },
      {
       "output_type": "stream",
       "stream": "stderr",
       "text": [
        "\r",
        "[ 20 %] elapsed[sec]: 0.065 | ETA[sec]: 0.255 "
       ]
      },
      {
       "output_type": "stream",
       "stream": "stderr",
       "text": [
        "\r",
        "[ 21 %] elapsed[sec]: 0.068 | ETA[sec]: 0.254 "
       ]
      },
      {
       "output_type": "stream",
       "stream": "stderr",
       "text": [
        "\r",
        "[ 21 %] elapsed[sec]: 0.071 | ETA[sec]: 0.253 "
       ]
      },
      {
       "output_type": "stream",
       "stream": "stderr",
       "text": [
        "\r",
        "[ 22 %] elapsed[sec]: 0.074 | ETA[sec]: 0.253 "
       ]
      },
      {
       "output_type": "stream",
       "stream": "stderr",
       "text": [
        "\r",
        "[ 23 %] elapsed[sec]: 0.077 | ETA[sec]: 0.252 "
       ]
      },
      {
       "output_type": "stream",
       "stream": "stderr",
       "text": [
        "\r",
        "[ 24 %] elapsed[sec]: 0.080 | ETA[sec]: 0.250 "
       ]
      },
      {
       "output_type": "stream",
       "stream": "stderr",
       "text": [
        "\r",
        "[ 25 %] elapsed[sec]: 0.083 | ETA[sec]: 0.248 "
       ]
      },
      {
       "output_type": "stream",
       "stream": "stderr",
       "text": [
        "\r",
        "[ 25 %] elapsed[sec]: 0.085 | ETA[sec]: 0.245 "
       ]
      },
      {
       "output_type": "stream",
       "stream": "stderr",
       "text": [
        "\r",
        "[ 26 %] elapsed[sec]: 0.087 | ETA[sec]: 0.242 "
       ]
      },
      {
       "output_type": "stream",
       "stream": "stderr",
       "text": [
        "\r",
        "[ 27 %] elapsed[sec]: 0.090 | ETA[sec]: 0.239 "
       ]
      },
      {
       "output_type": "stream",
       "stream": "stderr",
       "text": [
        "\r",
        "[ 28 %] elapsed[sec]: 0.093 | ETA[sec]: 0.237 "
       ]
      },
      {
       "output_type": "stream",
       "stream": "stderr",
       "text": [
        "\r",
        "[ 28 %] elapsed[sec]: 0.095 | ETA[sec]: 0.233 "
       ]
      },
      {
       "output_type": "stream",
       "stream": "stderr",
       "text": [
        "\r",
        "[ 29 %] elapsed[sec]: 0.097 | ETA[sec]: 0.230 "
       ]
      },
      {
       "output_type": "stream",
       "stream": "stderr",
       "text": [
        "\r",
        "[ 30 %] elapsed[sec]: 0.099 | ETA[sec]: 0.227 "
       ]
      },
      {
       "output_type": "stream",
       "stream": "stderr",
       "text": [
        "\r",
        "[ 31 %] elapsed[sec]: 0.102 | ETA[sec]: 0.224 "
       ]
      },
      {
       "output_type": "stream",
       "stream": "stderr",
       "text": [
        "\r",
        "[ 32 %] elapsed[sec]: 0.104 | ETA[sec]: 0.221 "
       ]
      },
      {
       "output_type": "stream",
       "stream": "stderr",
       "text": [
        "\r",
        "[ 32 %] elapsed[sec]: 0.106 | ETA[sec]: 0.218 "
       ]
      },
      {
       "output_type": "stream",
       "stream": "stderr",
       "text": [
        "\r",
        "[ 33 %] elapsed[sec]: 0.109 | ETA[sec]: 0.215 "
       ]
      },
      {
       "output_type": "stream",
       "stream": "stderr",
       "text": [
        "\r",
        "[ 34 %] elapsed[sec]: 0.111 | ETA[sec]: 0.212 "
       ]
      },
      {
       "output_type": "stream",
       "stream": "stderr",
       "text": [
        "\r",
        "[ 35 %] elapsed[sec]: 0.113 | ETA[sec]: 0.209 "
       ]
      },
      {
       "output_type": "stream",
       "stream": "stderr",
       "text": [
        "\r",
        "[ 35 %] elapsed[sec]: 0.116 | ETA[sec]: 0.207 "
       ]
      },
      {
       "output_type": "stream",
       "stream": "stderr",
       "text": [
        "\r",
        "[ 36 %] elapsed[sec]: 0.118 | ETA[sec]: 0.204 "
       ]
      },
      {
       "output_type": "stream",
       "stream": "stderr",
       "text": [
        "\r",
        "[ 37 %] elapsed[sec]: 0.121 | ETA[sec]: 0.201 "
       ]
      },
      {
       "output_type": "stream",
       "stream": "stderr",
       "text": [
        "\r",
        "[ 38 %] elapsed[sec]: 0.123 | ETA[sec]: 0.199 "
       ]
      },
      {
       "output_type": "stream",
       "stream": "stderr",
       "text": [
        "\r",
        "[ 39 %] elapsed[sec]: 0.126 | ETA[sec]: 0.197 "
       ]
      },
      {
       "output_type": "stream",
       "stream": "stderr",
       "text": [
        "\r",
        "[ 39 %] elapsed[sec]: 0.128 | ETA[sec]: 0.194 "
       ]
      },
      {
       "output_type": "stream",
       "stream": "stderr",
       "text": [
        "\r",
        "[ 40 %] elapsed[sec]: 0.131 | ETA[sec]: 0.191 "
       ]
      },
      {
       "output_type": "stream",
       "stream": "stderr",
       "text": [
        "\r",
        "[ 41 %] elapsed[sec]: 0.133 | ETA[sec]: 0.189 "
       ]
      },
      {
       "output_type": "stream",
       "stream": "stderr",
       "text": [
        "\r",
        "[ 42 %] elapsed[sec]: 0.136 | ETA[sec]: 0.186 "
       ]
      },
      {
       "output_type": "stream",
       "stream": "stderr",
       "text": [
        "\r",
        "[ 42 %] elapsed[sec]: 0.138 | ETA[sec]: 0.184 "
       ]
      },
      {
       "output_type": "stream",
       "stream": "stderr",
       "text": [
        "\r",
        "[ 43 %] elapsed[sec]: 0.141 | ETA[sec]: 0.181 "
       ]
      },
      {
       "output_type": "stream",
       "stream": "stderr",
       "text": [
        "\r",
        "[ 44 %] elapsed[sec]: 0.143 | ETA[sec]: 0.178 "
       ]
      },
      {
       "output_type": "stream",
       "stream": "stderr",
       "text": [
        "\r",
        "[ 45 %] elapsed[sec]: 0.145 | ETA[sec]: 0.175 "
       ]
      },
      {
       "output_type": "stream",
       "stream": "stderr",
       "text": [
        "\r",
        "[ 46 %] elapsed[sec]: 0.148 | ETA[sec]: 0.173 "
       ]
      },
      {
       "output_type": "stream",
       "stream": "stderr",
       "text": [
        "\r",
        "[ 46 %] elapsed[sec]: 0.151 | ETA[sec]: 0.171 "
       ]
      },
      {
       "output_type": "stream",
       "stream": "stderr",
       "text": [
        "\r",
        "[ 47 %] elapsed[sec]: 0.153 | ETA[sec]: 0.168 "
       ]
      },
      {
       "output_type": "stream",
       "stream": "stderr",
       "text": [
        "\r",
        "[ 48 %] elapsed[sec]: 0.156 | ETA[sec]: 0.166 "
       ]
      },
      {
       "output_type": "stream",
       "stream": "stderr",
       "text": [
        "\r",
        "[ 49 %] elapsed[sec]: 0.158 | ETA[sec]: 0.163 "
       ]
      },
      {
       "output_type": "stream",
       "stream": "stderr",
       "text": [
        "\r",
        "[ 50 %] elapsed[sec]: 0.161 | ETA[sec]: 0.161 "
       ]
      },
      {
       "output_type": "stream",
       "stream": "stderr",
       "text": [
        "\r",
        "[ 50 %] elapsed[sec]: 0.163 | ETA[sec]: 0.158 "
       ]
      },
      {
       "output_type": "stream",
       "stream": "stderr",
       "text": [
        "\r",
        "[ 51 %] elapsed[sec]: 0.166 | ETA[sec]: 0.156 "
       ]
      },
      {
       "output_type": "stream",
       "stream": "stderr",
       "text": [
        "\r",
        "[ 52 %] elapsed[sec]: 0.168 | ETA[sec]: 0.153 "
       ]
      },
      {
       "output_type": "stream",
       "stream": "stderr",
       "text": [
        "\r",
        "[ 53 %] elapsed[sec]: 0.171 | ETA[sec]: 0.151 "
       ]
      },
      {
       "output_type": "stream",
       "stream": "stderr",
       "text": [
        "\r",
        "[ 53 %] elapsed[sec]: 0.173 | ETA[sec]: 0.148 "
       ]
      },
      {
       "output_type": "stream",
       "stream": "stderr",
       "text": [
        "\r",
        "[ 54 %] elapsed[sec]: 0.176 | ETA[sec]: 0.145 "
       ]
      },
      {
       "output_type": "stream",
       "stream": "stderr",
       "text": [
        "\r",
        "[ 55 %] elapsed[sec]: 0.178 | ETA[sec]: 0.143 "
       ]
      },
      {
       "output_type": "stream",
       "stream": "stderr",
       "text": [
        "\r",
        "[ 56 %] elapsed[sec]: 0.181 | ETA[sec]: 0.140 "
       ]
      },
      {
       "output_type": "stream",
       "stream": "stderr",
       "text": [
        "\r",
        "[ 57 %] elapsed[sec]: 0.183 | ETA[sec]: 0.138 "
       ]
      },
      {
       "output_type": "stream",
       "stream": "stderr",
       "text": [
        "\r",
        "[ 57 %] elapsed[sec]: 0.185 | ETA[sec]: 0.135 "
       ]
      },
      {
       "output_type": "stream",
       "stream": "stderr",
       "text": [
        "\r",
        "[ 58 %] elapsed[sec]: 0.188 | ETA[sec]: 0.133 "
       ]
      },
      {
       "output_type": "stream",
       "stream": "stderr",
       "text": [
        "\r",
        "[ 59 %] elapsed[sec]: 0.190 | ETA[sec]: 0.130 "
       ]
      },
      {
       "output_type": "stream",
       "stream": "stderr",
       "text": [
        "\r",
        "[ 60 %] elapsed[sec]: 0.193 | ETA[sec]: 0.128 "
       ]
      },
      {
       "output_type": "stream",
       "stream": "stderr",
       "text": [
        "\r",
        "[ 60 %] elapsed[sec]: 0.195 | ETA[sec]: 0.125 "
       ]
      },
      {
       "output_type": "stream",
       "stream": "stderr",
       "text": [
        "\r",
        "[ 61 %] elapsed[sec]: 0.198 | ETA[sec]: 0.123 "
       ]
      },
      {
       "output_type": "stream",
       "stream": "stderr",
       "text": [
        "\r",
        "[ 62 %] elapsed[sec]: 0.200 | ETA[sec]: 0.120 "
       ]
      },
      {
       "output_type": "stream",
       "stream": "stderr",
       "text": [
        "\r",
        "[ 63 %] elapsed[sec]: 0.203 | ETA[sec]: 0.118 "
       ]
      },
      {
       "output_type": "stream",
       "stream": "stderr",
       "text": [
        "\r",
        "[ 64 %] elapsed[sec]: 0.205 | ETA[sec]: 0.115 "
       ]
      },
      {
       "output_type": "stream",
       "stream": "stderr",
       "text": [
        "\r",
        "[ 64 %] elapsed[sec]: 0.208 | ETA[sec]: 0.113 "
       ]
      },
      {
       "output_type": "stream",
       "stream": "stderr",
       "text": [
        "\r",
        "[ 65 %] elapsed[sec]: 0.210 | ETA[sec]: 0.110 "
       ]
      },
      {
       "output_type": "stream",
       "stream": "stderr",
       "text": [
        "\r",
        "[ 66 %] elapsed[sec]: 0.213 | ETA[sec]: 0.108 "
       ]
      },
      {
       "output_type": "stream",
       "stream": "stderr",
       "text": [
        "\r",
        "[ 67 %] elapsed[sec]: 0.215 | ETA[sec]: 0.105 "
       ]
      },
      {
       "output_type": "stream",
       "stream": "stderr",
       "text": [
        "\r",
        "[ 67 %] elapsed[sec]: 0.217 | ETA[sec]: 0.102 "
       ]
      },
      {
       "output_type": "stream",
       "stream": "stderr",
       "text": [
        "\r",
        "[ 68 %] elapsed[sec]: 0.219 | ETA[sec]: 0.100 "
       ]
      },
      {
       "output_type": "stream",
       "stream": "stderr",
       "text": [
        "\r",
        "[ 69 %] elapsed[sec]: 0.222 | ETA[sec]: 0.097 "
       ]
      },
      {
       "output_type": "stream",
       "stream": "stderr",
       "text": [
        "\r",
        "[ 70 %] elapsed[sec]: 0.224 | ETA[sec]: 0.095 "
       ]
      },
      {
       "output_type": "stream",
       "stream": "stderr",
       "text": [
        "\r",
        "[ 71 %] elapsed[sec]: 0.226 | ETA[sec]: 0.092 "
       ]
      },
      {
       "output_type": "stream",
       "stream": "stderr",
       "text": [
        "\r",
        "[ 71 %] elapsed[sec]: 0.228 | ETA[sec]: 0.089 "
       ]
      },
      {
       "output_type": "stream",
       "stream": "stderr",
       "text": [
        "\r",
        "[ 72 %] elapsed[sec]: 0.230 | ETA[sec]: 0.087 "
       ]
      },
      {
       "output_type": "stream",
       "stream": "stderr",
       "text": [
        "\r",
        "[ 73 %] elapsed[sec]: 0.233 | ETA[sec]: 0.084 "
       ]
      },
      {
       "output_type": "stream",
       "stream": "stderr",
       "text": [
        "\r",
        "[ 74 %] elapsed[sec]: 0.235 | ETA[sec]: 0.082 "
       ]
      },
      {
       "output_type": "stream",
       "stream": "stderr",
       "text": [
        "\r",
        "[ 75 %] elapsed[sec]: 0.237 | ETA[sec]: 0.079 "
       ]
      },
      {
       "output_type": "stream",
       "stream": "stderr",
       "text": [
        "\r",
        "[ 75 %] elapsed[sec]: 0.239 | ETA[sec]: 0.076 "
       ]
      },
      {
       "output_type": "stream",
       "stream": "stderr",
       "text": [
        "\r",
        "[ 76 %] elapsed[sec]: 0.241 | ETA[sec]: 0.074 "
       ]
      },
      {
       "output_type": "stream",
       "stream": "stderr",
       "text": [
        "\r",
        "[ 77 %] elapsed[sec]: 0.243 | ETA[sec]: 0.071 "
       ]
      },
      {
       "output_type": "stream",
       "stream": "stderr",
       "text": [
        "\r",
        "[ 78 %] elapsed[sec]: 0.246 | ETA[sec]: 0.069 "
       ]
      },
      {
       "output_type": "stream",
       "stream": "stderr",
       "text": [
        "\r",
        "[ 78 %] elapsed[sec]: 0.248 | ETA[sec]: 0.066 "
       ]
      },
      {
       "output_type": "stream",
       "stream": "stderr",
       "text": [
        "\r",
        "[ 79 %] elapsed[sec]: 0.250 | ETA[sec]: 0.064 "
       ]
      },
      {
       "output_type": "stream",
       "stream": "stderr",
       "text": [
        "\r",
        "[ 80 %] elapsed[sec]: 0.253 | ETA[sec]: 0.061 "
       ]
      },
      {
       "output_type": "stream",
       "stream": "stderr",
       "text": [
        "\r",
        "[ 81 %] elapsed[sec]: 0.255 | ETA[sec]: 0.059 "
       ]
      },
      {
       "output_type": "stream",
       "stream": "stderr",
       "text": [
        "\r",
        "[ 82 %] elapsed[sec]: 0.257 | ETA[sec]: 0.056 "
       ]
      },
      {
       "output_type": "stream",
       "stream": "stderr",
       "text": [
        "\r",
        "[ 82 %] elapsed[sec]: 0.260 | ETA[sec]: 0.054 "
       ]
      },
      {
       "output_type": "stream",
       "stream": "stderr",
       "text": [
        "\r",
        "[ 83 %] elapsed[sec]: 0.263 | ETA[sec]: 0.052 "
       ]
      },
      {
       "output_type": "stream",
       "stream": "stderr",
       "text": [
        "\r",
        "[ 84 %] elapsed[sec]: 0.266 | ETA[sec]: 0.049 "
       ]
      },
      {
       "output_type": "stream",
       "stream": "stderr",
       "text": [
        "\r",
        "[ 85 %] elapsed[sec]: 0.268 | ETA[sec]: 0.047 "
       ]
      },
      {
       "output_type": "stream",
       "stream": "stderr",
       "text": [
        "\r",
        "[ 85 %] elapsed[sec]: 0.270 | ETA[sec]: 0.044 "
       ]
      },
      {
       "output_type": "stream",
       "stream": "stderr",
       "text": [
        "\r",
        "[ 86 %] elapsed[sec]: 0.273 | ETA[sec]: 0.042 "
       ]
      },
      {
       "output_type": "stream",
       "stream": "stderr",
       "text": [
        "\r",
        "[ 87 %] elapsed[sec]: 0.275 | ETA[sec]: 0.039 "
       ]
      },
      {
       "output_type": "stream",
       "stream": "stderr",
       "text": [
        "\r",
        "[ 88 %] elapsed[sec]: 0.278 | ETA[sec]: 0.037 "
       ]
      },
      {
       "output_type": "stream",
       "stream": "stderr",
       "text": [
        "\r",
        "[ 89 %] elapsed[sec]: 0.280 | ETA[sec]: 0.034 "
       ]
      },
      {
       "output_type": "stream",
       "stream": "stderr",
       "text": [
        "\r",
        "[ 89 %] elapsed[sec]: 0.282 | ETA[sec]: 0.032 "
       ]
      },
      {
       "output_type": "stream",
       "stream": "stderr",
       "text": [
        "\r",
        "[ 90 %] elapsed[sec]: 0.285 | ETA[sec]: 0.029 "
       ]
      },
      {
       "output_type": "stream",
       "stream": "stderr",
       "text": [
        "\r",
        "[ 91 %] elapsed[sec]: 0.287 | ETA[sec]: 0.027 "
       ]
      },
      {
       "output_type": "stream",
       "stream": "stderr",
       "text": [
        "\r",
        "[ 92 %] elapsed[sec]: 0.289 | ETA[sec]: 0.025 "
       ]
      },
      {
       "output_type": "stream",
       "stream": "stderr",
       "text": [
        "\r",
        "[ 92 %] elapsed[sec]: 0.292 | ETA[sec]: 0.022 "
       ]
      },
      {
       "output_type": "stream",
       "stream": "stderr",
       "text": [
        "\r",
        "[ 93 %] elapsed[sec]: 0.294 | ETA[sec]: 0.020 "
       ]
      },
      {
       "output_type": "stream",
       "stream": "stderr",
       "text": [
        "\r",
        "[ 94 %] elapsed[sec]: 0.296 | ETA[sec]: 0.017 "
       ]
      },
      {
       "output_type": "stream",
       "stream": "stderr",
       "text": [
        "\r",
        "[ 95 %] elapsed[sec]: 0.298 | ETA[sec]: 0.015 "
       ]
      },
      {
       "output_type": "stream",
       "stream": "stderr",
       "text": [
        "\r",
        "[ 96 %] elapsed[sec]: 0.301 | ETA[sec]: 0.012 "
       ]
      },
      {
       "output_type": "stream",
       "stream": "stderr",
       "text": [
        "\r",
        "[ 96 %] elapsed[sec]: 0.303 | ETA[sec]: 0.010 "
       ]
      },
      {
       "output_type": "stream",
       "stream": "stderr",
       "text": [
        "\r",
        "[ 97 %] elapsed[sec]: 0.305 | ETA[sec]: 0.007 "
       ]
      },
      {
       "output_type": "stream",
       "stream": "stderr",
       "text": [
        "\r",
        "[ 98 %] elapsed[sec]: 0.308 | ETA[sec]: 0.005 "
       ]
      },
      {
       "output_type": "stream",
       "stream": "stderr",
       "text": [
        "\r",
        "[ 99 %] elapsed[sec]: 0.311 | ETA[sec]: 0.002 "
       ]
      },
      {
       "output_type": "stream",
       "stream": "stderr",
       "text": [
        "\r",
        "[100 %] elapsed[sec]: 0.313"
       ]
      },
      {
       "output_type": "stream",
       "stream": "stdout",
       "text": [
        "Saving sequence results/default_.webm\n",
        "Title: \n",
        "                      Started: 10/27/2014 16:38:13\n",
        "                      Finished: 10/27/2014 16:38:13\n",
        "                      Total time elapsed: 0.313 sec\n",
        "                      CPU %: 101.400000\n",
        "                      Memory %: 5.275226"
       ]
      },
      {
       "output_type": "stream",
       "stream": "stdout",
       "text": [
        "\n"
       ]
      },
      {
       "output_type": "stream",
       "stream": "stderr",
       "text": [
        "\n",
        "Total time elapsed: 0.313 sec\n"
       ]
      },
      {
       "html": [
        "\n",
        "        <center><table border=none width=100% height=100%>\n",
        "        <tr>\n",
        "        <td width=33%><center><img src=\"data:image/png;base64,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\" width=100%/></td>\n",
        "        <td rowspan=2  colspan=2><center><video src=\"data:video/webm;base64,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\"   loop=\"loop\" autoplay=\"autoplay\" controls   type=\"video/webm\" width=100%/></td>\n",
        "        </tr>\n",
        "        <tr>\n",
        "        <td><center><img src=\"data:image/png;base64,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\" width=100%/></td>\n",
        "        </tr>\n",
        "        </table></center>"
       ],
       "metadata": {},
       "output_type": "display_data",
       "text": [
        "<IPython.core.display.HTML at 0x10dda84d0>"
       ]
      }
     ],
     "prompt_number": 15
    },
    {
     "cell_type": "markdown",
     "metadata": {},
     "source": [
      "Now generate a reverse phi stimulus by showing just 2 frames the next one being filpped over:"
     ]
    },
    {
     "cell_type": "code",
     "collapsed": false,
     "input": [
      "i_frame = 4\n",
      "mov = mc.random_cloud(env)\n",
      "mov_ =  np.zeros_like(mov)\n",
      "print mov_[:, :, (mc.N_frame/2-i_frame):(mc.N_frame/2)].shape, mov[:, :, mc.N_frame/2-1].shape\n",
      "mov_[:, :, (mc.N_frame/2-i_frame):(mc.N_frame/2)] = mov[:, :, mc.N_frame/2-1][:, :, np.newaxis]\n",
      "mov_[:, :, (mc.N_frame/2):(mc.N_frame/2+i_frame)] = -mov[:, :, mc.N_frame/2][:, :, np.newaxis]\n",
      "mov_ = mc.rectif(mov_, contrast=1.)\n",
      "mc.anim_save(mov_, os.path.join(mc.figpath, name + 'reverse_Phi'))\n",
      "mc.in_show_video(name + 'reverse_Phi')"
     ],
     "language": "python",
     "metadata": {},
     "outputs": [
      {
       "output_type": "stream",
       "stream": "stderr",
       "text": [
        "\r",
        "[  0 %] elapsed[sec]: 0.000"
       ]
      },
      {
       "output_type": "stream",
       "stream": "stdout",
       "text": [
        "(128, 128, 4) (128, 128)\n",
        "Saving sequence results/default_reverse_Phi.webm"
       ]
      },
      {
       "output_type": "stream",
       "stream": "stderr",
       "text": [
        "\r",
        "[  0 %] elapsed[sec]: 0.001"
       ]
      },
      {
       "output_type": "stream",
       "stream": "stderr",
       "text": [
        "\r",
        "[  1 %] elapsed[sec]: 0.002 | ETA[sec]: 0.125 "
       ]
      },
      {
       "output_type": "stream",
       "stream": "stderr",
       "text": [
        "\r",
        "[  2 %] elapsed[sec]: 0.003 | ETA[sec]: 0.127 "
       ]
      },
      {
       "output_type": "stream",
       "stream": "stderr",
       "text": [
        "\r",
        "[  3 %] elapsed[sec]: 0.004 | ETA[sec]: 0.128 "
       ]
      },
      {
       "output_type": "stream",
       "stream": "stderr",
       "text": [
        "\r",
        "[  3 %] elapsed[sec]: 0.005 | ETA[sec]: 0.127 "
       ]
      },
      {
       "output_type": "stream",
       "stream": "stderr",
       "text": [
        "\r",
        "[  4 %] elapsed[sec]: 0.006 | ETA[sec]: 0.127 "
       ]
      },
      {
       "output_type": "stream",
       "stream": "stderr",
       "text": [
        "\r",
        "[  5 %] elapsed[sec]: 0.007 | ETA[sec]: 0.127 "
       ]
      },
      {
       "output_type": "stream",
       "stream": "stderr",
       "text": [
        "\r",
        "[  6 %] elapsed[sec]: 0.008 | ETA[sec]: 0.127 "
       ]
      },
      {
       "output_type": "stream",
       "stream": "stderr",
       "text": [
        "\r",
        "[  7 %] elapsed[sec]: 0.010 | ETA[sec]: 0.130 "
       ]
      },
      {
       "output_type": "stream",
       "stream": "stderr",
       "text": [
        "\r",
        "[  7 %] elapsed[sec]: 0.011 | ETA[sec]: 0.131 "
       ]
      },
      {
       "output_type": "stream",
       "stream": "stderr",
       "text": [
        "\r",
        "[  8 %] elapsed[sec]: 0.012 | ETA[sec]: 0.130 "
       ]
      },
      {
       "output_type": "stream",
       "stream": "stderr",
       "text": [
        "\r",
        "[  9 %] elapsed[sec]: 0.013 | ETA[sec]: 0.129 "
       ]
      },
      {
       "output_type": "stream",
       "stream": "stderr",
       "text": [
        "\r",
        "[ 10 %] elapsed[sec]: 0.014 | ETA[sec]: 0.127 "
       ]
      },
      {
       "output_type": "stream",
       "stream": "stderr",
       "text": [
        "\r",
        "[ 10 %] elapsed[sec]: 0.016 | ETA[sec]: 0.127 "
       ]
      },
      {
       "output_type": "stream",
       "stream": "stderr",
       "text": [
        "\r",
        "[ 11 %] elapsed[sec]: 0.017 | ETA[sec]: 0.125 "
       ]
      },
      {
       "output_type": "stream",
       "stream": "stderr",
       "text": [
        "\r",
        "[ 12 %] elapsed[sec]: 0.018 | ETA[sec]: 0.124 "
       ]
      },
      {
       "output_type": "stream",
       "stream": "stderr",
       "text": [
        "\r",
        "[ 13 %] elapsed[sec]: 0.019 | ETA[sec]: 0.123 "
       ]
      },
      {
       "output_type": "stream",
       "stream": "stderr",
       "text": [
        "\r",
        "[ 14 %] elapsed[sec]: 0.020 | ETA[sec]: 0.122 "
       ]
      },
      {
       "output_type": "stream",
       "stream": "stderr",
       "text": [
        "\r",
        "[ 14 %] elapsed[sec]: 0.021 | ETA[sec]: 0.121 "
       ]
      },
      {
       "output_type": "stream",
       "stream": "stderr",
       "text": [
        "\r",
        "[ 15 %] elapsed[sec]: 0.022 | ETA[sec]: 0.120 "
       ]
      },
      {
       "output_type": "stream",
       "stream": "stderr",
       "text": [
        "\r",
        "[ 16 %] elapsed[sec]: 0.023 | ETA[sec]: 0.119 "
       ]
      },
      {
       "output_type": "stream",
       "stream": "stderr",
       "text": [
        "\r",
        "[ 17 %] elapsed[sec]: 0.024 | ETA[sec]: 0.118 "
       ]
      },
      {
       "output_type": "stream",
       "stream": "stderr",
       "text": [
        "\r",
        "[ 17 %] elapsed[sec]: 0.026 | ETA[sec]: 0.117 "
       ]
      },
      {
       "output_type": "stream",
       "stream": "stderr",
       "text": [
        "\r",
        "[ 18 %] elapsed[sec]: 0.027 | ETA[sec]: 0.117 "
       ]
      },
      {
       "output_type": "stream",
       "stream": "stderr",
       "text": [
        "\r",
        "[ 19 %] elapsed[sec]: 0.028 | ETA[sec]: 0.116 "
       ]
      },
      {
       "output_type": "stream",
       "stream": "stderr",
       "text": [
        "\r",
        "[ 20 %] elapsed[sec]: 0.029 | ETA[sec]: 0.115 "
       ]
      },
      {
       "output_type": "stream",
       "stream": "stderr",
       "text": [
        "\r",
        "[ 21 %] elapsed[sec]: 0.030 | ETA[sec]: 0.114 "
       ]
      },
      {
       "output_type": "stream",
       "stream": "stderr",
       "text": [
        "\r",
        "[ 21 %] elapsed[sec]: 0.032 | ETA[sec]: 0.113 "
       ]
      },
      {
       "output_type": "stream",
       "stream": "stderr",
       "text": [
        "\r",
        "[ 22 %] elapsed[sec]: 0.033 | ETA[sec]: 0.112 "
       ]
      },
      {
       "output_type": "stream",
       "stream": "stderr",
       "text": [
        "\r",
        "[ 23 %] elapsed[sec]: 0.034 | ETA[sec]: 0.111 "
       ]
      },
      {
       "output_type": "stream",
       "stream": "stderr",
       "text": [
        "\r",
        "[ 24 %] elapsed[sec]: 0.035 | ETA[sec]: 0.110 "
       ]
      },
      {
       "output_type": "stream",
       "stream": "stderr",
       "text": [
        "\r",
        "[ 25 %] elapsed[sec]: 0.036 | ETA[sec]: 0.109 "
       ]
      },
      {
       "output_type": "stream",
       "stream": "stderr",
       "text": [
        "\r",
        "[ 25 %] elapsed[sec]: 0.037 | ETA[sec]: 0.108 "
       ]
      },
      {
       "output_type": "stream",
       "stream": "stderr",
       "text": [
        "\r",
        "[ 26 %] elapsed[sec]: 0.039 | ETA[sec]: 0.107 "
       ]
      },
      {
       "output_type": "stream",
       "stream": "stderr",
       "text": [
        "\r",
        "[ 27 %] elapsed[sec]: 0.040 | ETA[sec]: 0.107 "
       ]
      },
      {
       "output_type": "stream",
       "stream": "stderr",
       "text": [
        "\r",
        "[ 28 %] elapsed[sec]: 0.042 | ETA[sec]: 0.107 "
       ]
      },
      {
       "output_type": "stream",
       "stream": "stderr",
       "text": [
        "\r",
        "[ 28 %] elapsed[sec]: 0.043 | ETA[sec]: 0.106 "
       ]
      },
      {
       "output_type": "stream",
       "stream": "stderr",
       "text": [
        "\r",
        "[ 29 %] elapsed[sec]: 0.044 | ETA[sec]: 0.105 "
       ]
      },
      {
       "output_type": "stream",
       "stream": "stderr",
       "text": [
        "\r",
        "[ 30 %] elapsed[sec]: 0.046 | ETA[sec]: 0.105 "
       ]
      },
      {
       "output_type": "stream",
       "stream": "stderr",
       "text": [
        "\r",
        "[ 31 %] elapsed[sec]: 0.047 | ETA[sec]: 0.104 "
       ]
      },
      {
       "output_type": "stream",
       "stream": "stderr",
       "text": [
        "\r",
        "[ 32 %] elapsed[sec]: 0.048 | ETA[sec]: 0.103 "
       ]
      },
      {
       "output_type": "stream",
       "stream": "stderr",
       "text": [
        "\r",
        "[ 32 %] elapsed[sec]: 0.050 | ETA[sec]: 0.102 "
       ]
      },
      {
       "output_type": "stream",
       "stream": "stderr",
       "text": [
        "\r",
        "[ 33 %] elapsed[sec]: 0.051 | ETA[sec]: 0.101 "
       ]
      },
      {
       "output_type": "stream",
       "stream": "stderr",
       "text": [
        "\r",
        "[ 34 %] elapsed[sec]: 0.052 | ETA[sec]: 0.099 "
       ]
      },
      {
       "output_type": "stream",
       "stream": "stderr",
       "text": [
        "\r",
        "[ 35 %] elapsed[sec]: 0.053 | ETA[sec]: 0.098 "
       ]
      },
      {
       "output_type": "stream",
       "stream": "stderr",
       "text": [
        "\r",
        "[ 35 %] elapsed[sec]: 0.054 | ETA[sec]: 0.097 "
       ]
      },
      {
       "output_type": "stream",
       "stream": "stderr",
       "text": [
        "\r",
        "[ 36 %] elapsed[sec]: 0.055 | ETA[sec]: 0.095 "
       ]
      },
      {
       "output_type": "stream",
       "stream": "stderr",
       "text": [
        "\r",
        "[ 37 %] elapsed[sec]: 0.056 | ETA[sec]: 0.094 "
       ]
      },
      {
       "output_type": "stream",
       "stream": "stderr",
       "text": [
        "\r",
        "[ 38 %] elapsed[sec]: 0.058 | ETA[sec]: 0.093 "
       ]
      },
      {
       "output_type": "stream",
       "stream": "stderr",
       "text": [
        "\r",
        "[ 39 %] elapsed[sec]: 0.059 | ETA[sec]: 0.091 "
       ]
      },
      {
       "output_type": "stream",
       "stream": "stderr",
       "text": [
        "\r",
        "[ 39 %] elapsed[sec]: 0.060 | ETA[sec]: 0.090 "
       ]
      },
      {
       "output_type": "stream",
       "stream": "stderr",
       "text": [
        "\r",
        "[ 40 %] elapsed[sec]: 0.061 | ETA[sec]: 0.089 "
       ]
      },
      {
       "output_type": "stream",
       "stream": "stderr",
       "text": [
        "\r",
        "[ 41 %] elapsed[sec]: 0.062 | ETA[sec]: 0.088 "
       ]
      },
      {
       "output_type": "stream",
       "stream": "stderr",
       "text": [
        "\r",
        "[ 42 %] elapsed[sec]: 0.063 | ETA[sec]: 0.087 "
       ]
      },
      {
       "output_type": "stream",
       "stream": "stderr",
       "text": [
        "\r",
        "[ 42 %] elapsed[sec]: 0.064 | ETA[sec]: 0.085 "
       ]
      },
      {
       "output_type": "stream",
       "stream": "stderr",
       "text": [
        "\r",
        "[ 43 %] elapsed[sec]: 0.065 | ETA[sec]: 0.084 "
       ]
      },
      {
       "output_type": "stream",
       "stream": "stderr",
       "text": [
        "\r",
        "[ 44 %] elapsed[sec]: 0.066 | ETA[sec]: 0.083 "
       ]
      },
      {
       "output_type": "stream",
       "stream": "stderr",
       "text": [
        "\r",
        "[ 45 %] elapsed[sec]: 0.068 | ETA[sec]: 0.082 "
       ]
      },
      {
       "output_type": "stream",
       "stream": "stderr",
       "text": [
        "\r",
        "[ 46 %] elapsed[sec]: 0.069 | ETA[sec]: 0.081 "
       ]
      },
      {
       "output_type": "stream",
       "stream": "stderr",
       "text": [
        "\r",
        "[ 46 %] elapsed[sec]: 0.070 | ETA[sec]: 0.080 "
       ]
      },
      {
       "output_type": "stream",
       "stream": "stderr",
       "text": [
        "\r",
        "[ 47 %] elapsed[sec]: 0.071 | ETA[sec]: 0.078 "
       ]
      },
      {
       "output_type": "stream",
       "stream": "stderr",
       "text": [
        "\r",
        "[ 48 %] elapsed[sec]: 0.073 | ETA[sec]: 0.078 "
       ]
      },
      {
       "output_type": "stream",
       "stream": "stderr",
       "text": [
        "\r",
        "[ 49 %] elapsed[sec]: 0.075 | ETA[sec]: 0.078 "
       ]
      },
      {
       "output_type": "stream",
       "stream": "stderr",
       "text": [
        "\r",
        "[ 50 %] elapsed[sec]: 0.077 | ETA[sec]: 0.077 "
       ]
      },
      {
       "output_type": "stream",
       "stream": "stderr",
       "text": [
        "\r",
        "[ 50 %] elapsed[sec]: 0.079 | ETA[sec]: 0.077 "
       ]
      },
      {
       "output_type": "stream",
       "stream": "stderr",
       "text": [
        "\r",
        "[ 51 %] elapsed[sec]: 0.081 | ETA[sec]: 0.076 "
       ]
      },
      {
       "output_type": "stream",
       "stream": "stderr",
       "text": [
        "\r",
        "[ 52 %] elapsed[sec]: 0.083 | ETA[sec]: 0.076 "
       ]
      },
      {
       "output_type": "stream",
       "stream": "stderr",
       "text": [
        "\r",
        "[ 53 %] elapsed[sec]: 0.085 | ETA[sec]: 0.075 "
       ]
      },
      {
       "output_type": "stream",
       "stream": "stderr",
       "text": [
        "\r",
        "[ 53 %] elapsed[sec]: 0.087 | ETA[sec]: 0.074 "
       ]
      },
      {
       "output_type": "stream",
       "stream": "stderr",
       "text": [
        "\r",
        "[ 54 %] elapsed[sec]: 0.088 | ETA[sec]: 0.073 "
       ]
      },
      {
       "output_type": "stream",
       "stream": "stderr",
       "text": [
        "\r",
        "[ 55 %] elapsed[sec]: 0.089 | ETA[sec]: 0.072 "
       ]
      },
      {
       "output_type": "stream",
       "stream": "stderr",
       "text": [
        "\r",
        "[ 56 %] elapsed[sec]: 0.091 | ETA[sec]: 0.070 "
       ]
      },
      {
       "output_type": "stream",
       "stream": "stderr",
       "text": [
        "\r",
        "[ 57 %] elapsed[sec]: 0.092 | ETA[sec]: 0.069 "
       ]
      },
      {
       "output_type": "stream",
       "stream": "stderr",
       "text": [
        "\r",
        "[ 57 %] elapsed[sec]: 0.093 | ETA[sec]: 0.068 "
       ]
      },
      {
       "output_type": "stream",
       "stream": "stderr",
       "text": [
        "\r",
        "[ 58 %] elapsed[sec]: 0.094 | ETA[sec]: 0.067 "
       ]
      },
      {
       "output_type": "stream",
       "stream": "stderr",
       "text": [
        "\r",
        "[ 59 %] elapsed[sec]: 0.095 | ETA[sec]: 0.065 "
       ]
      },
      {
       "output_type": "stream",
       "stream": "stderr",
       "text": [
        "\r",
        "[ 60 %] elapsed[sec]: 0.096 | ETA[sec]: 0.064 "
       ]
      },
      {
       "output_type": "stream",
       "stream": "stderr",
       "text": [
        "\r",
        "[ 60 %] elapsed[sec]: 0.097 | ETA[sec]: 0.063 "
       ]
      },
      {
       "output_type": "stream",
       "stream": "stderr",
       "text": [
        "\r",
        "[ 61 %] elapsed[sec]: 0.099 | ETA[sec]: 0.061 "
       ]
      },
      {
       "output_type": "stream",
       "stream": "stderr",
       "text": [
        "\r",
        "[ 62 %] elapsed[sec]: 0.100 | ETA[sec]: 0.060 "
       ]
      },
      {
       "output_type": "stream",
       "stream": "stderr",
       "text": [
        "\r",
        "[ 63 %] elapsed[sec]: 0.101 | ETA[sec]: 0.059 "
       ]
      },
      {
       "output_type": "stream",
       "stream": "stderr",
       "text": [
        "\r",
        "[ 64 %] elapsed[sec]: 0.102 | ETA[sec]: 0.057 "
       ]
      },
      {
       "output_type": "stream",
       "stream": "stderr",
       "text": [
        "\r",
        "[ 64 %] elapsed[sec]: 0.104 | ETA[sec]: 0.056 "
       ]
      },
      {
       "output_type": "stream",
       "stream": "stderr",
       "text": [
        "\r",
        "[ 65 %] elapsed[sec]: 0.105 | ETA[sec]: 0.055 "
       ]
      },
      {
       "output_type": "stream",
       "stream": "stderr",
       "text": [
        "\r",
        "[ 66 %] elapsed[sec]: 0.106 | ETA[sec]: 0.054 "
       ]
      },
      {
       "output_type": "stream",
       "stream": "stderr",
       "text": [
        "\r",
        "[ 67 %] elapsed[sec]: 0.107 | ETA[sec]: 0.052 "
       ]
      },
      {
       "output_type": "stream",
       "stream": "stderr",
       "text": [
        "\r",
        "[ 67 %] elapsed[sec]: 0.108 | ETA[sec]: 0.051 "
       ]
      },
      {
       "output_type": "stream",
       "stream": "stderr",
       "text": [
        "\r",
        "[ 68 %] elapsed[sec]: 0.109 | ETA[sec]: 0.050 "
       ]
      },
      {
       "output_type": "stream",
       "stream": "stderr",
       "text": [
        "\r",
        "[ 69 %] elapsed[sec]: 0.110 | ETA[sec]: 0.048 "
       ]
      },
      {
       "output_type": "stream",
       "stream": "stderr",
       "text": [
        "\r",
        "[ 70 %] elapsed[sec]: 0.112 | ETA[sec]: 0.047 "
       ]
      },
      {
       "output_type": "stream",
       "stream": "stderr",
       "text": [
        "\r",
        "[ 71 %] elapsed[sec]: 0.113 | ETA[sec]: 0.046 "
       ]
      },
      {
       "output_type": "stream",
       "stream": "stderr",
       "text": [
        "\r",
        "[ 71 %] elapsed[sec]: 0.114 | ETA[sec]: 0.045 "
       ]
      },
      {
       "output_type": "stream",
       "stream": "stderr",
       "text": [
        "\r",
        "[ 72 %] elapsed[sec]: 0.115 | ETA[sec]: 0.043 "
       ]
      },
      {
       "output_type": "stream",
       "stream": "stderr",
       "text": [
        "\r",
        "[ 73 %] elapsed[sec]: 0.116 | ETA[sec]: 0.042 "
       ]
      },
      {
       "output_type": "stream",
       "stream": "stderr",
       "text": [
        "\r",
        "[ 74 %] elapsed[sec]: 0.118 | ETA[sec]: 0.041 "
       ]
      },
      {
       "output_type": "stream",
       "stream": "stderr",
       "text": [
        "\r",
        "[ 75 %] elapsed[sec]: 0.119 | ETA[sec]: 0.040 "
       ]
      },
      {
       "output_type": "stream",
       "stream": "stderr",
       "text": [
        "\r",
        "[ 75 %] elapsed[sec]: 0.120 | ETA[sec]: 0.038 "
       ]
      },
      {
       "output_type": "stream",
       "stream": "stderr",
       "text": [
        "\r",
        "[ 76 %] elapsed[sec]: 0.121 | ETA[sec]: 0.037 "
       ]
      },
      {
       "output_type": "stream",
       "stream": "stderr",
       "text": [
        "\r",
        "[ 77 %] elapsed[sec]: 0.122 | ETA[sec]: 0.036 "
       ]
      },
      {
       "output_type": "stream",
       "stream": "stderr",
       "text": [
        "\r",
        "[ 78 %] elapsed[sec]: 0.123 | ETA[sec]: 0.035 "
       ]
      },
      {
       "output_type": "stream",
       "stream": "stderr",
       "text": [
        "\r",
        "[ 78 %] elapsed[sec]: 0.125 | ETA[sec]: 0.033 "
       ]
      },
      {
       "output_type": "stream",
       "stream": "stderr",
       "text": [
        "\r",
        "[ 79 %] elapsed[sec]: 0.126 | ETA[sec]: 0.032 "
       ]
      },
      {
       "output_type": "stream",
       "stream": "stderr",
       "text": [
        "\r",
        "[ 80 %] elapsed[sec]: 0.127 | ETA[sec]: 0.031 "
       ]
      },
      {
       "output_type": "stream",
       "stream": "stderr",
       "text": [
        "\r",
        "[ 81 %] elapsed[sec]: 0.128 | ETA[sec]: 0.030 "
       ]
      },
      {
       "output_type": "stream",
       "stream": "stderr",
       "text": [
        "\r",
        "[ 82 %] elapsed[sec]: 0.130 | ETA[sec]: 0.028 "
       ]
      },
      {
       "output_type": "stream",
       "stream": "stderr",
       "text": [
        "\r",
        "[ 82 %] elapsed[sec]: 0.131 | ETA[sec]: 0.027 "
       ]
      },
      {
       "output_type": "stream",
       "stream": "stderr",
       "text": [
        "\r",
        "[ 83 %] elapsed[sec]: 0.132 | ETA[sec]: 0.026 "
       ]
      },
      {
       "output_type": "stream",
       "stream": "stderr",
       "text": [
        "\r",
        "[ 84 %] elapsed[sec]: 0.133 | ETA[sec]: 0.025 "
       ]
      },
      {
       "output_type": "stream",
       "stream": "stderr",
       "text": [
        "\r",
        "[ 85 %] elapsed[sec]: 0.135 | ETA[sec]: 0.024 "
       ]
      },
      {
       "output_type": "stream",
       "stream": "stderr",
       "text": [
        "\r",
        "[ 85 %] elapsed[sec]: 0.136 | ETA[sec]: 0.022 "
       ]
      },
      {
       "output_type": "stream",
       "stream": "stderr",
       "text": [
        "\r",
        "[ 86 %] elapsed[sec]: 0.138 | ETA[sec]: 0.021 "
       ]
      },
      {
       "output_type": "stream",
       "stream": "stderr",
       "text": [
        "\r",
        "[ 87 %] elapsed[sec]: 0.139 | ETA[sec]: 0.020 "
       ]
      },
      {
       "output_type": "stream",
       "stream": "stderr",
       "text": [
        "\r",
        "[ 88 %] elapsed[sec]: 0.140 | ETA[sec]: 0.019 "
       ]
      },
      {
       "output_type": "stream",
       "stream": "stderr",
       "text": [
        "\r",
        "[ 89 %] elapsed[sec]: 0.141 | ETA[sec]: 0.017 "
       ]
      },
      {
       "output_type": "stream",
       "stream": "stderr",
       "text": [
        "\r",
        "[ 89 %] elapsed[sec]: 0.143 | ETA[sec]: 0.016 "
       ]
      },
      {
       "output_type": "stream",
       "stream": "stderr",
       "text": [
        "\r",
        "[ 90 %] elapsed[sec]: 0.144 | ETA[sec]: 0.015 "
       ]
      },
      {
       "output_type": "stream",
       "stream": "stderr",
       "text": [
        "\r",
        "[ 91 %] elapsed[sec]: 0.145 | ETA[sec]: 0.014 "
       ]
      },
      {
       "output_type": "stream",
       "stream": "stderr",
       "text": [
        "\r",
        "[ 92 %] elapsed[sec]: 0.146 | ETA[sec]: 0.012 "
       ]
      },
      {
       "output_type": "stream",
       "stream": "stderr",
       "text": [
        "\r",
        "[ 92 %] elapsed[sec]: 0.148 | ETA[sec]: 0.011 "
       ]
      },
      {
       "output_type": "stream",
       "stream": "stderr",
       "text": [
        "\r",
        "[ 93 %] elapsed[sec]: 0.149 | ETA[sec]: 0.010 "
       ]
      },
      {
       "output_type": "stream",
       "stream": "stderr",
       "text": [
        "\r",
        "[ 94 %] elapsed[sec]: 0.150 | ETA[sec]: 0.009 "
       ]
      },
      {
       "output_type": "stream",
       "stream": "stderr",
       "text": [
        "\r",
        "[ 95 %] elapsed[sec]: 0.151 | ETA[sec]: 0.007 "
       ]
      },
      {
       "output_type": "stream",
       "stream": "stderr",
       "text": [
        "\r",
        "[ 96 %] elapsed[sec]: 0.152 | ETA[sec]: 0.006 "
       ]
      },
      {
       "output_type": "stream",
       "stream": "stderr",
       "text": [
        "\r",
        "[ 96 %] elapsed[sec]: 0.153 | ETA[sec]: 0.005 "
       ]
      },
      {
       "output_type": "stream",
       "stream": "stderr",
       "text": [
        "\r",
        "[ 97 %] elapsed[sec]: 0.155 | ETA[sec]: 0.004 "
       ]
      },
      {
       "output_type": "stream",
       "stream": "stderr",
       "text": [
        "\r",
        "[ 98 %] elapsed[sec]: 0.156 | ETA[sec]: 0.002 "
       ]
      },
      {
       "output_type": "stream",
       "stream": "stderr",
       "text": [
        "\r",
        "[ 99 %] elapsed[sec]: 0.157 | ETA[sec]: 0.001 "
       ]
      },
      {
       "output_type": "stream",
       "stream": "stderr",
       "text": [
        "\r",
        "[100 %] elapsed[sec]: 0.158"
       ]
      },
      {
       "output_type": "stream",
       "stream": "stdout",
       "text": [
        "\n",
        "Title: \n",
        "                      Started: 10/27/2014 16:59:00\n",
        "                      Finished: 10/27/2014 16:59:00\n",
        "                      Total time elapsed: 0.159 sec\n",
        "                      CPU %: 102.800000\n",
        "                      Memory %: 6.483579"
       ]
      },
      {
       "output_type": "stream",
       "stream": "stdout",
       "text": [
        "\n"
       ]
      },
      {
       "output_type": "stream",
       "stream": "stderr",
       "text": [
        "\n",
        "Total time elapsed: 0.159 sec\n"
       ]
      },
      {
       "html": [
        "<center><table border=none width=100%% height=100%%> <tr> <td width=100%%><center><video  loop=\"loop\" autoplay=\"autoplay\" controls  src=\"data:video/webm;base64,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\" width=100%%\\></td></tr></table></center>"
       ],
       "metadata": {},
       "output_type": "display_data",
       "text": [
        "<IPython.core.display.HTML at 0x10f7b18d0>"
       ]
      }
     ],
     "prompt_number": 77
    },
    {
     "cell_type": "code",
     "collapsed": false,
     "input": [
      "i_frame = 4\n",
      "mov = mc.random_cloud(env)\n",
      "mov_ =  np.zeros_like(mov)\n",
      "print mov_[:, :, (mc.N_frame/2-i_frame):(mc.N_frame/2)].shape, mov[:, :, mc.N_frame/2-1].shape\n",
      "mov_[:, :, (mc.N_frame/2-i_frame):(mc.N_frame/2)] = mov[:, :, mc.N_frame/2-1][:, :, np.newaxis]\n",
      "mov_[:, :, (mc.N_frame/2):(mc.N_frame/2+i_frame)] = mov[:, :, mc.N_frame/2][:, :, np.newaxis]\n",
      "mov_ = mc.rectif(mov_, contrast=1.)\n",
      "mc.anim_save(mov_, os.path.join(mc.figpath, name + 'just_Phi'))\n",
      "mc.in_show_video(name + 'just_Phi')"
     ],
     "language": "python",
     "metadata": {},
     "outputs": [
      {
       "output_type": "stream",
       "stream": "stderr",
       "text": [
        "\r",
        "[  0 %] elapsed[sec]: 0.000"
       ]
      },
      {
       "output_type": "stream",
       "stream": "stdout",
       "text": [
        "(128, 128, 4) (128, 128)\n",
        "Saving sequence results/default_just_Phi.webm"
       ]
      },
      {
       "output_type": "stream",
       "stream": "stderr",
       "text": [
        "\r",
        "[  0 %] elapsed[sec]: 0.001"
       ]
      },
      {
       "output_type": "stream",
       "stream": "stderr",
       "text": [
        "\r",
        "[  1 %] elapsed[sec]: 0.002 | ETA[sec]: 0.122 "
       ]
      },
      {
       "output_type": "stream",
       "stream": "stderr",
       "text": [
        "\r",
        "[  2 %] elapsed[sec]: 0.003 | ETA[sec]: 0.129 "
       ]
      },
      {
       "output_type": "stream",
       "stream": "stderr",
       "text": [
        "\r",
        "[  3 %] elapsed[sec]: 0.004 | ETA[sec]: 0.131 "
       ]
      },
      {
       "output_type": "stream",
       "stream": "stderr",
       "text": [
        "\r",
        "[  3 %] elapsed[sec]: 0.005 | ETA[sec]: 0.132 "
       ]
      },
      {
       "output_type": "stream",
       "stream": "stderr",
       "text": [
        "\r",
        "[  4 %] elapsed[sec]: 0.006 | ETA[sec]: 0.130 "
       ]
      },
      {
       "output_type": "stream",
       "stream": "stderr",
       "text": [
        "\r",
        "[  5 %] elapsed[sec]: 0.007 | ETA[sec]: 0.129 "
       ]
      },
      {
       "output_type": "stream",
       "stream": "stderr",
       "text": [
        "\r",
        "[  6 %] elapsed[sec]: 0.009 | ETA[sec]: 0.128 "
       ]
      },
      {
       "output_type": "stream",
       "stream": "stderr",
       "text": [
        "\r",
        "[  7 %] elapsed[sec]: 0.010 | ETA[sec]: 0.127 "
       ]
      },
      {
       "output_type": "stream",
       "stream": "stderr",
       "text": [
        "\r",
        "[  7 %] elapsed[sec]: 0.011 | ETA[sec]: 0.129 "
       ]
      },
      {
       "output_type": "stream",
       "stream": "stderr",
       "text": [
        "\r",
        "[  8 %] elapsed[sec]: 0.012 | ETA[sec]: 0.128 "
       ]
      },
      {
       "output_type": "stream",
       "stream": "stderr",
       "text": [
        "\r",
        "[  9 %] elapsed[sec]: 0.013 | ETA[sec]: 0.127 "
       ]
      },
      {
       "output_type": "stream",
       "stream": "stderr",
       "text": [
        "\r",
        "[ 10 %] elapsed[sec]: 0.014 | ETA[sec]: 0.125 "
       ]
      },
      {
       "output_type": "stream",
       "stream": "stderr",
       "text": [
        "\r",
        "[ 10 %] elapsed[sec]: 0.015 | ETA[sec]: 0.124 "
       ]
      },
      {
       "output_type": "stream",
       "stream": "stderr",
       "text": [
        "\r",
        "[ 11 %] elapsed[sec]: 0.016 | ETA[sec]: 0.123 "
       ]
      },
      {
       "output_type": "stream",
       "stream": "stderr",
       "text": [
        "\r",
        "[ 12 %] elapsed[sec]: 0.017 | ETA[sec]: 0.122 "
       ]
      },
      {
       "output_type": "stream",
       "stream": "stderr",
       "text": [
        "\r",
        "[ 13 %] elapsed[sec]: 0.019 | ETA[sec]: 0.121 "
       ]
      },
      {
       "output_type": "stream",
       "stream": "stderr",
       "text": [
        "\r",
        "[ 14 %] elapsed[sec]: 0.020 | ETA[sec]: 0.121 "
       ]
      },
      {
       "output_type": "stream",
       "stream": "stderr",
       "text": [
        "\r",
        "[ 14 %] elapsed[sec]: 0.021 | ETA[sec]: 0.121 "
       ]
      },
      {
       "output_type": "stream",
       "stream": "stderr",
       "text": [
        "\r",
        "[ 15 %] elapsed[sec]: 0.023 | ETA[sec]: 0.122 "
       ]
      },
      {
       "output_type": "stream",
       "stream": "stderr",
       "text": [
        "\r",
        "[ 16 %] elapsed[sec]: 0.024 | ETA[sec]: 0.122 "
       ]
      },
      {
       "output_type": "stream",
       "stream": "stderr",
       "text": [
        "\r",
        "[ 17 %] elapsed[sec]: 0.025 | ETA[sec]: 0.122 "
       ]
      },
      {
       "output_type": "stream",
       "stream": "stderr",
       "text": [
        "\r",
        "[ 17 %] elapsed[sec]: 0.027 | ETA[sec]: 0.121 "
       ]
      },
      {
       "output_type": "stream",
       "stream": "stderr",
       "text": [
        "\r",
        "[ 18 %] elapsed[sec]: 0.028 | ETA[sec]: 0.120 "
       ]
      },
      {
       "output_type": "stream",
       "stream": "stderr",
       "text": [
        "\r",
        "[ 19 %] elapsed[sec]: 0.029 | ETA[sec]: 0.120 "
       ]
      },
      {
       "output_type": "stream",
       "stream": "stderr",
       "text": [
        "\r",
        "[ 20 %] elapsed[sec]: 0.031 | ETA[sec]: 0.120 "
       ]
      },
      {
       "output_type": "stream",
       "stream": "stderr",
       "text": [
        "\r",
        "[ 21 %] elapsed[sec]: 0.032 | ETA[sec]: 0.120 "
       ]
      },
      {
       "output_type": "stream",
       "stream": "stderr",
       "text": [
        "\r",
        "[ 21 %] elapsed[sec]: 0.034 | ETA[sec]: 0.120 "
       ]
      },
      {
       "output_type": "stream",
       "stream": "stderr",
       "text": [
        "\r",
        "[ 22 %] elapsed[sec]: 0.035 | ETA[sec]: 0.120 "
       ]
      },
      {
       "output_type": "stream",
       "stream": "stderr",
       "text": [
        "\r",
        "[ 23 %] elapsed[sec]: 0.037 | ETA[sec]: 0.120 "
       ]
      },
      {
       "output_type": "stream",
       "stream": "stderr",
       "text": [
        "\r",
        "[ 24 %] elapsed[sec]: 0.038 | ETA[sec]: 0.119 "
       ]
      },
      {
       "output_type": "stream",
       "stream": "stderr",
       "text": [
        "\r",
        "[ 25 %] elapsed[sec]: 0.039 | ETA[sec]: 0.117 "
       ]
      },
      {
       "output_type": "stream",
       "stream": "stderr",
       "text": [
        "\r",
        "[ 25 %] elapsed[sec]: 0.040 | ETA[sec]: 0.116 "
       ]
      },
      {
       "output_type": "stream",
       "stream": "stderr",
       "text": [
        "\r",
        "[ 26 %] elapsed[sec]: 0.042 | ETA[sec]: 0.115 "
       ]
      },
      {
       "output_type": "stream",
       "stream": "stderr",
       "text": [
        "\r",
        "[ 27 %] elapsed[sec]: 0.043 | ETA[sec]: 0.114 "
       ]
      },
      {
       "output_type": "stream",
       "stream": "stderr",
       "text": [
        "\r",
        "[ 28 %] elapsed[sec]: 0.044 | ETA[sec]: 0.114 "
       ]
      },
      {
       "output_type": "stream",
       "stream": "stderr",
       "text": [
        "\r",
        "[ 28 %] elapsed[sec]: 0.046 | ETA[sec]: 0.113 "
       ]
      },
      {
       "output_type": "stream",
       "stream": "stderr",
       "text": [
        "\r",
        "[ 29 %] elapsed[sec]: 0.047 | ETA[sec]: 0.112 "
       ]
      },
      {
       "output_type": "stream",
       "stream": "stderr",
       "text": [
        "\r",
        "[ 30 %] elapsed[sec]: 0.048 | ETA[sec]: 0.110 "
       ]
      },
      {
       "output_type": "stream",
       "stream": "stderr",
       "text": [
        "\r",
        "[ 31 %] elapsed[sec]: 0.049 | ETA[sec]: 0.109 "
       ]
      },
      {
       "output_type": "stream",
       "stream": "stderr",
       "text": [
        "\r",
        "[ 32 %] elapsed[sec]: 0.051 | ETA[sec]: 0.108 "
       ]
      },
      {
       "output_type": "stream",
       "stream": "stderr",
       "text": [
        "\r",
        "[ 32 %] elapsed[sec]: 0.053 | ETA[sec]: 0.108 "
       ]
      },
      {
       "output_type": "stream",
       "stream": "stderr",
       "text": [
        "\r",
        "[ 33 %] elapsed[sec]: 0.054 | ETA[sec]: 0.108 "
       ]
      },
      {
       "output_type": "stream",
       "stream": "stderr",
       "text": [
        "\r",
        "[ 34 %] elapsed[sec]: 0.056 | ETA[sec]: 0.107 "
       ]
      },
      {
       "output_type": "stream",
       "stream": "stderr",
       "text": [
        "\r",
        "[ 35 %] elapsed[sec]: 0.057 | ETA[sec]: 0.105 "
       ]
      },
      {
       "output_type": "stream",
       "stream": "stderr",
       "text": [
        "\r",
        "[ 35 %] elapsed[sec]: 0.058 | ETA[sec]: 0.104 "
       ]
      },
      {
       "output_type": "stream",
       "stream": "stderr",
       "text": [
        "\r",
        "[ 36 %] elapsed[sec]: 0.059 | ETA[sec]: 0.102 "
       ]
      },
      {
       "output_type": "stream",
       "stream": "stderr",
       "text": [
        "\r",
        "[ 37 %] elapsed[sec]: 0.060 | ETA[sec]: 0.101 "
       ]
      },
      {
       "output_type": "stream",
       "stream": "stderr",
       "text": [
        "\r",
        "[ 38 %] elapsed[sec]: 0.062 | ETA[sec]: 0.100 "
       ]
      },
      {
       "output_type": "stream",
       "stream": "stderr",
       "text": [
        "\r",
        "[ 39 %] elapsed[sec]: 0.063 | ETA[sec]: 0.098 "
       ]
      },
      {
       "output_type": "stream",
       "stream": "stderr",
       "text": [
        "\r",
        "[ 39 %] elapsed[sec]: 0.064 | ETA[sec]: 0.097 "
       ]
      },
      {
       "output_type": "stream",
       "stream": "stderr",
       "text": [
        "\r",
        "[ 40 %] elapsed[sec]: 0.066 | ETA[sec]: 0.096 "
       ]
      },
      {
       "output_type": "stream",
       "stream": "stderr",
       "text": [
        "\r",
        "[ 41 %] elapsed[sec]: 0.067 | ETA[sec]: 0.095 "
       ]
      },
      {
       "output_type": "stream",
       "stream": "stderr",
       "text": [
        "\r",
        "[ 42 %] elapsed[sec]: 0.069 | ETA[sec]: 0.094 "
       ]
      },
      {
       "output_type": "stream",
       "stream": "stderr",
       "text": [
        "\r",
        "[ 42 %] elapsed[sec]: 0.070 | ETA[sec]: 0.093 "
       ]
      },
      {
       "output_type": "stream",
       "stream": "stderr",
       "text": [
        "\r",
        "[ 43 %] elapsed[sec]: 0.071 | ETA[sec]: 0.091 "
       ]
      },
      {
       "output_type": "stream",
       "stream": "stderr",
       "text": [
        "\r",
        "[ 44 %] elapsed[sec]: 0.072 | ETA[sec]: 0.090 "
       ]
      },
      {
       "output_type": "stream",
       "stream": "stderr",
       "text": [
        "\r",
        "[ 45 %] elapsed[sec]: 0.073 | ETA[sec]: 0.088 "
       ]
      },
      {
       "output_type": "stream",
       "stream": "stderr",
       "text": [
        "\r",
        "[ 46 %] elapsed[sec]: 0.074 | ETA[sec]: 0.087 "
       ]
      },
      {
       "output_type": "stream",
       "stream": "stderr",
       "text": [
        "\r",
        "[ 46 %] elapsed[sec]: 0.075 | ETA[sec]: 0.086 "
       ]
      },
      {
       "output_type": "stream",
       "stream": "stderr",
       "text": [
        "\r",
        "[ 47 %] elapsed[sec]: 0.077 | ETA[sec]: 0.084 "
       ]
      },
      {
       "output_type": "stream",
       "stream": "stderr",
       "text": [
        "\r",
        "[ 48 %] elapsed[sec]: 0.079 | ETA[sec]: 0.084 "
       ]
      },
      {
       "output_type": "stream",
       "stream": "stderr",
       "text": [
        "\r",
        "[ 49 %] elapsed[sec]: 0.081 | ETA[sec]: 0.084 "
       ]
      },
      {
       "output_type": "stream",
       "stream": "stderr",
       "text": [
        "\r",
        "[ 50 %] elapsed[sec]: 0.083 | ETA[sec]: 0.083 "
       ]
      },
      {
       "output_type": "stream",
       "stream": "stderr",
       "text": [
        "\r",
        "[ 50 %] elapsed[sec]: 0.085 | ETA[sec]: 0.082 "
       ]
      },
      {
       "output_type": "stream",
       "stream": "stderr",
       "text": [
        "\r",
        "[ 51 %] elapsed[sec]: 0.087 | ETA[sec]: 0.082 "
       ]
      },
      {
       "output_type": "stream",
       "stream": "stderr",
       "text": [
        "\r",
        "[ 52 %] elapsed[sec]: 0.089 | ETA[sec]: 0.081 "
       ]
      },
      {
       "output_type": "stream",
       "stream": "stderr",
       "text": [
        "\r",
        "[ 53 %] elapsed[sec]: 0.091 | ETA[sec]: 0.080 "
       ]
      },
      {
       "output_type": "stream",
       "stream": "stderr",
       "text": [
        "\r",
        "[ 53 %] elapsed[sec]: 0.093 | ETA[sec]: 0.079 "
       ]
      },
      {
       "output_type": "stream",
       "stream": "stderr",
       "text": [
        "\r",
        "[ 54 %] elapsed[sec]: 0.094 | ETA[sec]: 0.078 "
       ]
      },
      {
       "output_type": "stream",
       "stream": "stderr",
       "text": [
        "\r",
        "[ 55 %] elapsed[sec]: 0.095 | ETA[sec]: 0.076 "
       ]
      },
      {
       "output_type": "stream",
       "stream": "stderr",
       "text": [
        "\r",
        "[ 56 %] elapsed[sec]: 0.096 | ETA[sec]: 0.075 "
       ]
      },
      {
       "output_type": "stream",
       "stream": "stderr",
       "text": [
        "\r",
        "[ 57 %] elapsed[sec]: 0.097 | ETA[sec]: 0.073 "
       ]
      },
      {
       "output_type": "stream",
       "stream": "stderr",
       "text": [
        "\r",
        "[ 57 %] elapsed[sec]: 0.099 | ETA[sec]: 0.072 "
       ]
      },
      {
       "output_type": "stream",
       "stream": "stderr",
       "text": [
        "\r",
        "[ 58 %] elapsed[sec]: 0.100 | ETA[sec]: 0.071 "
       ]
      },
      {
       "output_type": "stream",
       "stream": "stderr",
       "text": [
        "\r",
        "[ 59 %] elapsed[sec]: 0.102 | ETA[sec]: 0.070 "
       ]
      },
      {
       "output_type": "stream",
       "stream": "stderr",
       "text": [
        "\r",
        "[ 60 %] elapsed[sec]: 0.103 | ETA[sec]: 0.068 "
       ]
      },
      {
       "output_type": "stream",
       "stream": "stderr",
       "text": [
        "\r",
        "[ 60 %] elapsed[sec]: 0.104 | ETA[sec]: 0.067 "
       ]
      },
      {
       "output_type": "stream",
       "stream": "stderr",
       "text": [
        "\r",
        "[ 61 %] elapsed[sec]: 0.105 | ETA[sec]: 0.065 "
       ]
      },
      {
       "output_type": "stream",
       "stream": "stderr",
       "text": [
        "\r",
        "[ 62 %] elapsed[sec]: 0.106 | ETA[sec]: 0.064 "
       ]
      },
      {
       "output_type": "stream",
       "stream": "stderr",
       "text": [
        "\r",
        "[ 63 %] elapsed[sec]: 0.108 | ETA[sec]: 0.062 "
       ]
      },
      {
       "output_type": "stream",
       "stream": "stderr",
       "text": [
        "\r",
        "[ 64 %] elapsed[sec]: 0.109 | ETA[sec]: 0.061 "
       ]
      },
      {
       "output_type": "stream",
       "stream": "stderr",
       "text": [
        "\r",
        "[ 64 %] elapsed[sec]: 0.110 | ETA[sec]: 0.060 "
       ]
      },
      {
       "output_type": "stream",
       "stream": "stderr",
       "text": [
        "\r",
        "[ 65 %] elapsed[sec]: 0.111 | ETA[sec]: 0.058 "
       ]
      },
      {
       "output_type": "stream",
       "stream": "stderr",
       "text": [
        "\r",
        "[ 66 %] elapsed[sec]: 0.112 | ETA[sec]: 0.057 "
       ]
      },
      {
       "output_type": "stream",
       "stream": "stderr",
       "text": [
        "\r",
        "[ 67 %] elapsed[sec]: 0.113 | ETA[sec]: 0.055 "
       ]
      },
      {
       "output_type": "stream",
       "stream": "stderr",
       "text": [
        "\r",
        "[ 67 %] elapsed[sec]: 0.114 | ETA[sec]: 0.054 "
       ]
      },
      {
       "output_type": "stream",
       "stream": "stderr",
       "text": [
        "\r",
        "[ 68 %] elapsed[sec]: 0.115 | ETA[sec]: 0.052 "
       ]
      },
      {
       "output_type": "stream",
       "stream": "stderr",
       "text": [
        "\r",
        "[ 69 %] elapsed[sec]: 0.116 | ETA[sec]: 0.051 "
       ]
      },
      {
       "output_type": "stream",
       "stream": "stderr",
       "text": [
        "\r",
        "[ 70 %] elapsed[sec]: 0.117 | ETA[sec]: 0.050 "
       ]
      },
      {
       "output_type": "stream",
       "stream": "stderr",
       "text": [
        "\r",
        "[ 71 %] elapsed[sec]: 0.119 | ETA[sec]: 0.048 "
       ]
      },
      {
       "output_type": "stream",
       "stream": "stderr",
       "text": [
        "\r",
        "[ 71 %] elapsed[sec]: 0.120 | ETA[sec]: 0.047 "
       ]
      },
      {
       "output_type": "stream",
       "stream": "stderr",
       "text": [
        "\r",
        "[ 72 %] elapsed[sec]: 0.121 | ETA[sec]: 0.046 "
       ]
      },
      {
       "output_type": "stream",
       "stream": "stderr",
       "text": [
        "\r",
        "[ 73 %] elapsed[sec]: 0.123 | ETA[sec]: 0.044 "
       ]
      },
      {
       "output_type": "stream",
       "stream": "stderr",
       "text": [
        "\r",
        "[ 74 %] elapsed[sec]: 0.124 | ETA[sec]: 0.043 "
       ]
      },
      {
       "output_type": "stream",
       "stream": "stderr",
       "text": [
        "\r",
        "[ 75 %] elapsed[sec]: 0.125 | ETA[sec]: 0.042 "
       ]
      },
      {
       "output_type": "stream",
       "stream": "stderr",
       "text": [
        "\r",
        "[ 75 %] elapsed[sec]: 0.126 | ETA[sec]: 0.040 "
       ]
      },
      {
       "output_type": "stream",
       "stream": "stderr",
       "text": [
        "\r",
        "[ 76 %] elapsed[sec]: 0.127 | ETA[sec]: 0.039 "
       ]
      },
      {
       "output_type": "stream",
       "stream": "stderr",
       "text": [
        "\r",
        "[ 77 %] elapsed[sec]: 0.129 | ETA[sec]: 0.038 "
       ]
      },
      {
       "output_type": "stream",
       "stream": "stderr",
       "text": [
        "\r",
        "[ 78 %] elapsed[sec]: 0.131 | ETA[sec]: 0.037 "
       ]
      },
      {
       "output_type": "stream",
       "stream": "stderr",
       "text": [
        "\r",
        "[ 78 %] elapsed[sec]: 0.132 | ETA[sec]: 0.035 "
       ]
      },
      {
       "output_type": "stream",
       "stream": "stderr",
       "text": [
        "\r",
        "[ 79 %] elapsed[sec]: 0.133 | ETA[sec]: 0.034 "
       ]
      },
      {
       "output_type": "stream",
       "stream": "stderr",
       "text": [
        "\r",
        "[ 80 %] elapsed[sec]: 0.134 | ETA[sec]: 0.033 "
       ]
      },
      {
       "output_type": "stream",
       "stream": "stderr",
       "text": [
        "\r",
        "[ 81 %] elapsed[sec]: 0.135 | ETA[sec]: 0.031 "
       ]
      },
      {
       "output_type": "stream",
       "stream": "stderr",
       "text": [
        "\r",
        "[ 82 %] elapsed[sec]: 0.137 | ETA[sec]: 0.030 "
       ]
      },
      {
       "output_type": "stream",
       "stream": "stderr",
       "text": [
        "\r",
        "[ 82 %] elapsed[sec]: 0.138 | ETA[sec]: 0.029 "
       ]
      },
      {
       "output_type": "stream",
       "stream": "stderr",
       "text": [
        "\r",
        "[ 83 %] elapsed[sec]: 0.139 | ETA[sec]: 0.027 "
       ]
      },
      {
       "output_type": "stream",
       "stream": "stderr",
       "text": [
        "\r",
        "[ 84 %] elapsed[sec]: 0.140 | ETA[sec]: 0.026 "
       ]
      },
      {
       "output_type": "stream",
       "stream": "stderr",
       "text": [
        "\r",
        "[ 85 %] elapsed[sec]: 0.141 | ETA[sec]: 0.025 "
       ]
      },
      {
       "output_type": "stream",
       "stream": "stderr",
       "text": [
        "\r",
        "[ 85 %] elapsed[sec]: 0.142 | ETA[sec]: 0.023 "
       ]
      },
      {
       "output_type": "stream",
       "stream": "stderr",
       "text": [
        "\r",
        "[ 86 %] elapsed[sec]: 0.143 | ETA[sec]: 0.022 "
       ]
      },
      {
       "output_type": "stream",
       "stream": "stderr",
       "text": [
        "\r",
        "[ 87 %] elapsed[sec]: 0.144 | ETA[sec]: 0.021 "
       ]
      },
      {
       "output_type": "stream",
       "stream": "stderr",
       "text": [
        "\r",
        "[ 88 %] elapsed[sec]: 0.145 | ETA[sec]: 0.019 "
       ]
      },
      {
       "output_type": "stream",
       "stream": "stderr",
       "text": [
        "\r",
        "[ 89 %] elapsed[sec]: 0.146 | ETA[sec]: 0.018 "
       ]
      },
      {
       "output_type": "stream",
       "stream": "stderr",
       "text": [
        "\r",
        "[ 89 %] elapsed[sec]: 0.147 | ETA[sec]: 0.017 "
       ]
      },
      {
       "output_type": "stream",
       "stream": "stderr",
       "text": [
        "\r",
        "[ 90 %] elapsed[sec]: 0.149 | ETA[sec]: 0.015 "
       ]
      },
      {
       "output_type": "stream",
       "stream": "stderr",
       "text": [
        "\r",
        "[ 91 %] elapsed[sec]: 0.150 | ETA[sec]: 0.014 "
       ]
      },
      {
       "output_type": "stream",
       "stream": "stderr",
       "text": [
        "\r",
        "[ 92 %] elapsed[sec]: 0.151 | ETA[sec]: 0.013 "
       ]
      },
      {
       "output_type": "stream",
       "stream": "stderr",
       "text": [
        "\r",
        "[ 92 %] elapsed[sec]: 0.152 | ETA[sec]: 0.011 "
       ]
      },
      {
       "output_type": "stream",
       "stream": "stderr",
       "text": [
        "\r",
        "[ 93 %] elapsed[sec]: 0.154 | ETA[sec]: 0.010 "
       ]
      },
      {
       "output_type": "stream",
       "stream": "stderr",
       "text": [
        "\r",
        "[ 94 %] elapsed[sec]: 0.155 | ETA[sec]: 0.009 "
       ]
      },
      {
       "output_type": "stream",
       "stream": "stderr",
       "text": [
        "\r",
        "[ 95 %] elapsed[sec]: 0.156 | ETA[sec]: 0.008 "
       ]
      },
      {
       "output_type": "stream",
       "stream": "stderr",
       "text": [
        "\r",
        "[ 96 %] elapsed[sec]: 0.157 | ETA[sec]: 0.006 "
       ]
      },
      {
       "output_type": "stream",
       "stream": "stderr",
       "text": [
        "\r",
        "[ 96 %] elapsed[sec]: 0.159 | ETA[sec]: 0.005 "
       ]
      },
      {
       "output_type": "stream",
       "stream": "stderr",
       "text": [
        "\r",
        "[ 97 %] elapsed[sec]: 0.160 | ETA[sec]: 0.004 "
       ]
      },
      {
       "output_type": "stream",
       "stream": "stderr",
       "text": [
        "\r",
        "[ 98 %] elapsed[sec]: 0.161 | ETA[sec]: 0.003 "
       ]
      },
      {
       "output_type": "stream",
       "stream": "stderr",
       "text": [
        "\r",
        "[ 99 %] elapsed[sec]: 0.162 | ETA[sec]: 0.001 "
       ]
      },
      {
       "output_type": "stream",
       "stream": "stderr",
       "text": [
        "\r",
        "[100 %] elapsed[sec]: 0.163"
       ]
      },
      {
       "output_type": "stream",
       "stream": "stdout",
       "text": [
        "\n",
        "Title: \n",
        "                      Started: 10/27/2014 16:59:27\n",
        "                      Finished: 10/27/2014 16:59:27\n",
        "                      Total time elapsed: 0.164 sec\n",
        "                      CPU %: 103.000000\n",
        "                      Memory %: 6.483579"
       ]
      },
      {
       "output_type": "stream",
       "stream": "stdout",
       "text": [
        "\n"
       ]
      },
      {
       "output_type": "stream",
       "stream": "stderr",
       "text": [
        "\n",
        "Total time elapsed: 0.164 sec\n"
       ]
      },
      {
       "html": [
        "<center><table border=none width=100%% height=100%%> <tr> <td width=100%%><center><video  loop=\"loop\" autoplay=\"autoplay\" controls  src=\"data:video/webm;base64,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\" width=100%%\\></td></tr></table></center>"
       ],
       "metadata": {},
       "output_type": "display_data",
       "text": [
        "<IPython.core.display.HTML at 0x10f7b1e90>"
       ]
      }
     ],
     "prompt_number": 79
    },
    {
     "cell_type": "code",
     "collapsed": false,
     "input": [
      "from dataviews import SheetView, SheetStack\n",
      "%load_ext dataviews.ipython"
     ],
     "language": "python",
     "metadata": {},
     "outputs": [
      {
       "output_type": "stream",
       "stream": "stdout",
       "text": [
        "Welcome to the Dataviews IPython extension! (http://ioam.github.io/imagen/)\n",
        "Available magics: %opts, %params, %view, %%labels, %%opts, %%view\n"
       ]
      }
     ],
     "prompt_number": 6
    },
    {
     "cell_type": "code",
     "collapsed": false,
     "input": [
      "%view 200 pdf\n",
      "%opts SheetView cmap='gray' \n",
      "%opts SheetView clims=(0., 1.0)\n",
      "mov_ = mc.rectif(mov*rPhi, contrast=1.)\n",
      "one = SheetView(mov_[:, :, mc.N_frame/2-1].T, label='one frame', dimensions=[r'$x$', r'$y$'])\n",
      "two = SheetView(mov_[:, :, mc.N_frame/2].T, label='second frame', dimensions=[r'$x$', r'$y$']).hist()\n",
      "one + two"
     ],
     "language": "python",
     "metadata": {},
     "outputs": [
      {
       "output_type": "stream",
       "stream": "stdout",
       "text": [
        "Valid animations types: webm, h264, gif, slider, scrubber\n",
        "Usage: %view [png|svg|mpld3] [webm|h264|gif[:<fps>]|slider|scrubber] [<percent size>] (Arguments may be in any order)\n"
       ]
      },
      {
       "html": [
        "<center><img src='data:image/png;base64,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' style='max-width:100%'/><center/>"
       ],
       "metadata": {},
       "output_type": "pyout",
       "prompt_number": 12,
       "text": [
        "GridLayout(dimensions=[Dimension(cyclic=False, format_string='{name} = {val}{unit}', name='Row', range=(0, 0), type=<type 'int'>, unit=None), Dimension(cyclic=False, format_string='{name} = {val}{unit}', name='Column', range=(0, 0), type=<type 'int'>, unit=None)], name='GridLayout00127')"
       ]
      }
     ],
     "prompt_number": 12
    },
    {
     "cell_type": "code",
     "collapsed": false,
     "input": [
      "2*np.pi"
     ],
     "language": "python",
     "metadata": {},
     "outputs": [
      {
       "metadata": {},
       "output_type": "pyout",
       "prompt_number": 80,
       "text": [
        "6.283185307179586"
       ]
      }
     ],
     "prompt_number": 80
    },
    {
     "cell_type": "code",
     "collapsed": false,
     "input": [],
     "language": "python",
     "metadata": {},
     "outputs": [
      {
       "metadata": {},
       "output_type": "pyout",
       "prompt_number": 81,
       "text": [
        "['In',\n",
        " 'Out',\n",
        " 'SheetStack',\n",
        " 'SheetView',\n",
        " '_',\n",
        " '_10',\n",
        " '_11',\n",
        " '_12',\n",
        " '_4',\n",
        " '_7',\n",
        " '_8',\n",
        " '_80',\n",
        " '_9',\n",
        " '__',\n",
        " '___',\n",
        " '__builtin__',\n",
        " '__builtins__',\n",
        " '__doc__',\n",
        " '__name__',\n",
        " '__package__',\n",
        " '_dh',\n",
        " '_exit_code',\n",
        " '_i',\n",
        " '_i1',\n",
        " '_i10',\n",
        " '_i11',\n",
        " '_i12',\n",
        " '_i13',\n",
        " '_i14',\n",
        " '_i15',\n",
        " '_i16',\n",
        " '_i17',\n",
        " '_i18',\n",
        " '_i19',\n",
        " '_i2',\n",
        " '_i20',\n",
        " '_i21',\n",
        " '_i22',\n",
        " '_i23',\n",
        " '_i24',\n",
        " '_i25',\n",
        " '_i26',\n",
        " '_i27',\n",
        " '_i28',\n",
        " '_i29',\n",
        " '_i3',\n",
        " '_i30',\n",
        " '_i31',\n",
        " '_i32',\n",
        " '_i33',\n",
        " '_i34',\n",
        " '_i35',\n",
        " '_i36',\n",
        " '_i37',\n",
        " '_i38',\n",
        " '_i39',\n",
        " '_i4',\n",
        " '_i40',\n",
        " '_i41',\n",
        " '_i42',\n",
        " '_i43',\n",
        " '_i44',\n",
        " '_i45',\n",
        " '_i46',\n",
        " '_i47',\n",
        " '_i48',\n",
        " '_i49',\n",
        " '_i5',\n",
        " '_i50',\n",
        " '_i51',\n",
        " '_i52',\n",
        " '_i53',\n",
        " '_i54',\n",
        " '_i55',\n",
        " '_i56',\n",
        " '_i57',\n",
        " '_i58',\n",
        " '_i59',\n",
        " '_i6',\n",
        " '_i60',\n",
        " '_i61',\n",
        " '_i62',\n",
        " '_i63',\n",
        " '_i64',\n",
        " '_i65',\n",
        " '_i66',\n",
        " '_i67',\n",
        " '_i68',\n",
        " '_i69',\n",
        " '_i7',\n",
        " '_i70',\n",
        " '_i71',\n",
        " '_i72',\n",
        " '_i73',\n",
        " '_i74',\n",
        " '_i75',\n",
        " '_i76',\n",
        " '_i77',\n",
        " '_i78',\n",
        " '_i79',\n",
        " '_i8',\n",
        " '_i80',\n",
        " '_i81',\n",
        " '_i9',\n",
        " '_ih',\n",
        " '_ii',\n",
        " '_iii',\n",
        " '_oh',\n",
        " '_sh',\n",
        " 'env',\n",
        " 'exit',\n",
        " 'ft',\n",
        " 'fx',\n",
        " 'fy',\n",
        " 'get_ipython',\n",
        " 'i_frame',\n",
        " 'mc',\n",
        " 'mov',\n",
        " 'mov_',\n",
        " 'name',\n",
        " 'np',\n",
        " 'one',\n",
        " 'os',\n",
        " 'quit',\n",
        " 'rPhi',\n",
        " 'two']"
       ]
      }
     ],
     "prompt_number": 81
    },
    {
     "cell_type": "code",
     "collapsed": false,
     "input": [],
     "language": "python",
     "metadata": {},
     "outputs": [],
     "prompt_number": 81
    },
    {
     "cell_type": "code",
     "collapsed": false,
     "input": [],
     "language": "python",
     "metadata": {},
     "outputs": []
    }
   ],
   "metadata": {}
  }
 ]
}